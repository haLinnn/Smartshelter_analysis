{
 "cells": [
  {
   "cell_type": "markdown",
   "id": "dde84824-1094-48f3-8e21-741a09ecf67a",
   "metadata": {},
   "source": [
    "성동구 버스정류장이 포함된 데이터마다 담고있는 정류장이 상이하다. 따라서 '20220429기준_서울시정류소리스트.csv'와 '2021년_버스노선별_정류장별_시간대별_승하차_인원_정보.csv', '2022년_버스노선별_정류장별_시간대별_승하차_인원_정보(06월).csv' 데이터를 inner join하여 나온 버스정류장 목록들만 사용"
   ]
  },
  {
   "cell_type": "code",
   "execution_count": 1,
   "id": "5f21a90d-347d-4ea8-95cc-f1df3f0e6dbe",
   "metadata": {},
   "outputs": [],
   "source": [
    "import pandas as pd\n",
    "import numpy as np"
   ]
  },
  {
   "cell_type": "code",
   "execution_count": 3,
   "id": "7992f075-2f35-4582-87db-7511878ad0ca",
   "metadata": {},
   "outputs": [
    {
     "name": "stderr",
     "output_type": "stream",
     "text": [
      "C:\\Users\\user\\AppData\\Local\\Temp\\ipykernel_5780\\3646648623.py:3: DtypeWarning: Columns (4) have mixed types. Specify dtype option on import or set low_memory=False.\n",
      "  df2 = pd.read_csv('../data/2021년_버스노선별_정류장별_시간대별_승하차_인원_정보.csv', encoding='cp949')\n",
      "C:\\Users\\user\\AppData\\Local\\Temp\\ipykernel_5780\\3646648623.py:4: DtypeWarning: Columns (4) have mixed types. Specify dtype option on import or set low_memory=False.\n",
      "  df3 = pd.read_csv('../data/2022년_버스노선별_정류장별_시간대별_승하차_인원_정보(06월).csv', encoding='cp949')\n"
     ]
    }
   ],
   "source": [
    "df = pd.read_csv('../data/20220429기준_서울시정류소리스트.csv', encoding='cp949')\n",
    "df.rename(columns={'NODE_ID':'표준버스정류장ID'}, inplace=True)\n",
    "df2 = pd.read_csv('../data/2021년_버스노선별_정류장별_시간대별_승하차_인원_정보.csv', encoding='cp949')\n",
    "df3 = pd.read_csv('../data/2022년_버스노선별_정류장별_시간대별_승하차_인원_정보(06월).csv', encoding='cp949')"
   ]
  },
  {
   "cell_type": "code",
   "execution_count": 4,
   "id": "adad4de9-df6a-44f7-94e4-ddaa4da52698",
   "metadata": {},
   "outputs": [],
   "source": [
    "df = df[df['표준버스정류장ID'] // 1000000 == 103]\n",
    "df2 = df2[df2['표준버스정류장ID'] // 1000000 == 103]\n",
    "df3 = df3[df3['표준버스정류장ID'] // 1000000 == 103]"
   ]
  },
  {
   "cell_type": "code",
   "execution_count": 5,
   "id": "fc39f9b3-a2b3-4227-a297-870eb2075312",
   "metadata": {},
   "outputs": [],
   "source": [
    "merge_df = pd.merge(df, df2, on='표준버스정류장ID')\n",
    "merge_df2 = pd.merge(merge_df, df3, on='표준버스정류장ID')"
   ]
  },
  {
   "cell_type": "code",
   "execution_count": 6,
   "id": "5b5661bc-4bd5-4172-8d41-2a63400325e3",
   "metadata": {},
   "outputs": [],
   "source": [
    "sungdong_busstop = list(set(merge_df2['표준버스정류장ID'].tolist()))"
   ]
  },
  {
   "cell_type": "code",
   "execution_count": 7,
   "id": "e43fc0be-cdc9-4c86-823c-d2bf3baf7dec",
   "metadata": {},
   "outputs": [],
   "source": [
    "import pickle"
   ]
  },
  {
   "cell_type": "code",
   "execution_count": 8,
   "id": "93c8032d-f30e-4d85-af42-896b9c94d6b7",
   "metadata": {},
   "outputs": [],
   "source": [
    "# 앞으로 사용할 432개의 버스정류장 id을 pickle파일로 저장\n",
    "with open('../data/전처리데이터/sungdong_busstop.pickle', 'wb') as fw:\n",
    "    pickle.dump(sungdong_busstop, fw)"
   ]
  },
  {
   "cell_type": "code",
   "execution_count": 9,
   "id": "5060ece3-cebe-4464-8605-d33071cffa69",
   "metadata": {},
   "outputs": [],
   "source": [
    "# pickle파일을 불러올땐 아래처럼 하면 됨\n",
    "\n",
    "# with open('../data/전처리데이터/sungdong_busstop.pickle', 'rb') as fr:\n",
    "#     test = pickle.load(fr)\n",
    "# print(len(test))"
   ]
  },
  {
   "cell_type": "code",
   "execution_count": 10,
   "id": "e18898fc-a717-4bce-b89f-e4b9d4c9d738",
   "metadata": {},
   "outputs": [
    {
     "name": "stdout",
     "output_type": "stream",
     "text": [
      "103000511\n",
      "103000512\n",
      "103000513\n"
     ]
    }
   ],
   "source": [
    "list_2021 = list(set(df2['표준버스정류장ID'].tolist()))\n",
    "for i in df.index:\n",
    "    if df['표준버스정류장ID'][i] not in list_2021:\n",
    "        print(df['표준버스정류장ID'][i])"
   ]
  },
  {
   "cell_type": "code",
   "execution_count": null,
   "id": "321db7a1",
   "metadata": {},
   "outputs": [],
   "source": []
  },
  {
   "cell_type": "code",
   "execution_count": null,
   "id": "cdf7b198",
   "metadata": {},
   "outputs": [],
   "source": []
  }
 ],
 "metadata": {
  "kernelspec": {
   "display_name": "Python 3 (ipykernel)",
   "language": "python",
   "name": "python3"
  },
  "language_info": {
   "codemirror_mode": {
    "name": "ipython",
    "version": 3
   },
   "file_extension": ".py",
   "mimetype": "text/x-python",
   "name": "python",
   "nbconvert_exporter": "python",
   "pygments_lexer": "ipython3",
   "version": "3.9.12"
  }
 },
 "nbformat": 4,
 "nbformat_minor": 5
}
