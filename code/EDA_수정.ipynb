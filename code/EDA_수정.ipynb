{
 "cells": [
  {
   "cell_type": "code",
   "execution_count": 1,
   "metadata": {},
   "outputs": [],
   "source": [
    "import numpy as np\n",
    "import pandas as pd\n",
    "import matplotlib.pyplot as plt \n",
    "import seaborn as sns \n",
    "import warnings\n",
    "warnings.filterwarnings('ignore')"
   ]
  },
  {
   "cell_type": "code",
   "execution_count": 2,
   "metadata": {},
   "outputs": [],
   "source": [
    "import matplotlib.pyplot as plt \n",
    "import platform "
   ]
  },
  {
   "cell_type": "code",
   "execution_count": 3,
   "metadata": {},
   "outputs": [],
   "source": [
    "from matplotlib import font_manager, rc\n",
    "plt.rcParams['axes.unicode_minus']= False\n",
    "\n",
    "if platform.system() == 'Darwin': \n",
    "    plt.style.use('seaborn-darkgrid') \n",
    "    rc('font', family = 'AppleGothic')\n",
    "    \n",
    "elif platform.system() == 'Windows':\n",
    "    path = 'c:/Windows/Fonts/malgun.ttf'\n",
    "    font_name = font_manager.FontProperties(fname=path).get_name()\n",
    "    plt.style.use('seaborn-darkgrid') \n",
    "    rc('font', family=font_name)"
   ]
  },
  {
   "cell_type": "code",
   "execution_count": 4,
   "metadata": {},
   "outputs": [],
   "source": [
    "df = pd.read_csv(\"../data/전처리데이터/성동구 최종 데이터_수정.csv\", encoding='cp949')"
   ]
  },
  {
   "cell_type": "code",
   "execution_count": 5,
   "metadata": {},
   "outputs": [
    {
     "data": {
      "text/plain": [
       "(432, 18)"
      ]
     },
     "execution_count": 5,
     "metadata": {},
     "output_type": "execute_result"
    }
   ],
   "source": [
    "# 데이터 shape 파악\n",
    "df.shape"
   ]
  },
  {
   "cell_type": "code",
   "execution_count": 6,
   "metadata": {},
   "outputs": [
    {
     "data": {
      "text/html": [
       "<div>\n",
       "<style scoped>\n",
       "    .dataframe tbody tr th:only-of-type {\n",
       "        vertical-align: middle;\n",
       "    }\n",
       "\n",
       "    .dataframe tbody tr th {\n",
       "        vertical-align: top;\n",
       "    }\n",
       "\n",
       "    .dataframe thead th {\n",
       "        text-align: right;\n",
       "    }\n",
       "</style>\n",
       "<table border=\"1\" class=\"dataframe\">\n",
       "  <thead>\n",
       "    <tr style=\"text-align: right;\">\n",
       "      <th></th>\n",
       "      <th>Unnamed: 0</th>\n",
       "      <th>ARS-ID</th>\n",
       "      <th>버스 총 승차수</th>\n",
       "      <th>쉼터여부</th>\n",
       "      <th>NODE_ID</th>\n",
       "      <th>위도</th>\n",
       "      <th>경도</th>\n",
       "      <th>버스 수</th>\n",
       "      <th>평균 배차 간격</th>\n",
       "      <th>최대 배차 간격</th>\n",
       "      <th>지하철역 최단거리(m)</th>\n",
       "      <th>도로폭_숫자</th>\n",
       "      <th>인구</th>\n",
       "    </tr>\n",
       "  </thead>\n",
       "  <tbody>\n",
       "    <tr>\n",
       "      <th>count</th>\n",
       "      <td>432.000000</td>\n",
       "      <td>432.000000</td>\n",
       "      <td>432.000000</td>\n",
       "      <td>432.000000</td>\n",
       "      <td>4.320000e+02</td>\n",
       "      <td>432.000000</td>\n",
       "      <td>432.000000</td>\n",
       "      <td>432.000000</td>\n",
       "      <td>432.000000</td>\n",
       "      <td>432.000000</td>\n",
       "      <td>432.000000</td>\n",
       "      <td>432.000000</td>\n",
       "      <td>432.000000</td>\n",
       "    </tr>\n",
       "    <tr>\n",
       "      <th>mean</th>\n",
       "      <td>215.500000</td>\n",
       "      <td>4500.872685</td>\n",
       "      <td>6629.250000</td>\n",
       "      <td>0.104167</td>\n",
       "      <td>1.035230e+08</td>\n",
       "      <td>37.552547</td>\n",
       "      <td>127.034962</td>\n",
       "      <td>2.138889</td>\n",
       "      <td>11.758866</td>\n",
       "      <td>13.277778</td>\n",
       "      <td>409.628611</td>\n",
       "      <td>2.703704</td>\n",
       "      <td>17630.340278</td>\n",
       "    </tr>\n",
       "    <tr>\n",
       "      <th>std</th>\n",
       "      <td>124.851912</td>\n",
       "      <td>297.861940</td>\n",
       "      <td>10421.095101</td>\n",
       "      <td>0.305831</td>\n",
       "      <td>4.445864e+05</td>\n",
       "      <td>0.008757</td>\n",
       "      <td>0.014513</td>\n",
       "      <td>1.891283</td>\n",
       "      <td>3.756025</td>\n",
       "      <td>5.279797</td>\n",
       "      <td>230.309041</td>\n",
       "      <td>2.119446</td>\n",
       "      <td>5110.674204</td>\n",
       "    </tr>\n",
       "    <tr>\n",
       "      <th>min</th>\n",
       "      <td>0.000000</td>\n",
       "      <td>4001.000000</td>\n",
       "      <td>5.000000</td>\n",
       "      <td>0.000000</td>\n",
       "      <td>1.030000e+08</td>\n",
       "      <td>37.536286</td>\n",
       "      <td>127.011096</td>\n",
       "      <td>1.000000</td>\n",
       "      <td>7.000000</td>\n",
       "      <td>7.000000</td>\n",
       "      <td>7.611000</td>\n",
       "      <td>1.000000</td>\n",
       "      <td>10343.000000</td>\n",
       "    </tr>\n",
       "    <tr>\n",
       "      <th>25%</th>\n",
       "      <td>107.750000</td>\n",
       "      <td>4208.750000</td>\n",
       "      <td>761.500000</td>\n",
       "      <td>0.000000</td>\n",
       "      <td>1.030001e+08</td>\n",
       "      <td>37.545701</td>\n",
       "      <td>127.024131</td>\n",
       "      <td>1.000000</td>\n",
       "      <td>9.000000</td>\n",
       "      <td>10.000000</td>\n",
       "      <td>262.363000</td>\n",
       "      <td>1.000000</td>\n",
       "      <td>13893.000000</td>\n",
       "    </tr>\n",
       "    <tr>\n",
       "      <th>50%</th>\n",
       "      <td>215.500000</td>\n",
       "      <td>4540.500000</td>\n",
       "      <td>2500.000000</td>\n",
       "      <td>0.000000</td>\n",
       "      <td>1.039000e+08</td>\n",
       "      <td>37.552492</td>\n",
       "      <td>127.033368</td>\n",
       "      <td>1.000000</td>\n",
       "      <td>10.400000</td>\n",
       "      <td>13.000000</td>\n",
       "      <td>387.030000</td>\n",
       "      <td>2.000000</td>\n",
       "      <td>15608.000000</td>\n",
       "    </tr>\n",
       "    <tr>\n",
       "      <th>75%</th>\n",
       "      <td>323.250000</td>\n",
       "      <td>4771.250000</td>\n",
       "      <td>8296.000000</td>\n",
       "      <td>0.000000</td>\n",
       "      <td>1.039002e+08</td>\n",
       "      <td>37.558696</td>\n",
       "      <td>127.044866</td>\n",
       "      <td>3.000000</td>\n",
       "      <td>13.000000</td>\n",
       "      <td>14.250000</td>\n",
       "      <td>530.697000</td>\n",
       "      <td>4.000000</td>\n",
       "      <td>22459.000000</td>\n",
       "    </tr>\n",
       "    <tr>\n",
       "      <th>max</th>\n",
       "      <td>431.000000</td>\n",
       "      <td>6507.000000</td>\n",
       "      <td>73750.000000</td>\n",
       "      <td>1.000000</td>\n",
       "      <td>1.039003e+08</td>\n",
       "      <td>37.571953</td>\n",
       "      <td>127.072545</td>\n",
       "      <td>11.000000</td>\n",
       "      <td>23.000000</td>\n",
       "      <td>40.000000</td>\n",
       "      <td>1178.706000</td>\n",
       "      <td>9.000000</td>\n",
       "      <td>26534.000000</td>\n",
       "    </tr>\n",
       "  </tbody>\n",
       "</table>\n",
       "</div>"
      ],
      "text/plain": [
       "       Unnamed: 0       ARS-ID      버스 총 승차수        쉼터여부       NODE_ID  \\\n",
       "count  432.000000   432.000000    432.000000  432.000000  4.320000e+02   \n",
       "mean   215.500000  4500.872685   6629.250000    0.104167  1.035230e+08   \n",
       "std    124.851912   297.861940  10421.095101    0.305831  4.445864e+05   \n",
       "min      0.000000  4001.000000      5.000000    0.000000  1.030000e+08   \n",
       "25%    107.750000  4208.750000    761.500000    0.000000  1.030001e+08   \n",
       "50%    215.500000  4540.500000   2500.000000    0.000000  1.039000e+08   \n",
       "75%    323.250000  4771.250000   8296.000000    0.000000  1.039002e+08   \n",
       "max    431.000000  6507.000000  73750.000000    1.000000  1.039003e+08   \n",
       "\n",
       "               위도          경도        버스 수    평균 배차 간격    최대 배차 간격  \\\n",
       "count  432.000000  432.000000  432.000000  432.000000  432.000000   \n",
       "mean    37.552547  127.034962    2.138889   11.758866   13.277778   \n",
       "std      0.008757    0.014513    1.891283    3.756025    5.279797   \n",
       "min     37.536286  127.011096    1.000000    7.000000    7.000000   \n",
       "25%     37.545701  127.024131    1.000000    9.000000   10.000000   \n",
       "50%     37.552492  127.033368    1.000000   10.400000   13.000000   \n",
       "75%     37.558696  127.044866    3.000000   13.000000   14.250000   \n",
       "max     37.571953  127.072545   11.000000   23.000000   40.000000   \n",
       "\n",
       "       지하철역 최단거리(m)      도로폭_숫자            인구  \n",
       "count    432.000000  432.000000    432.000000  \n",
       "mean     409.628611    2.703704  17630.340278  \n",
       "std      230.309041    2.119446   5110.674204  \n",
       "min        7.611000    1.000000  10343.000000  \n",
       "25%      262.363000    1.000000  13893.000000  \n",
       "50%      387.030000    2.000000  15608.000000  \n",
       "75%      530.697000    4.000000  22459.000000  \n",
       "max     1178.706000    9.000000  26534.000000  "
      ]
     },
     "execution_count": 6,
     "metadata": {},
     "output_type": "execute_result"
    }
   ],
   "source": [
    "# 데이터 통계량 파악\n",
    "df.describe()"
   ]
  },
  {
   "cell_type": "code",
   "execution_count": 7,
   "metadata": {},
   "outputs": [
    {
     "name": "stdout",
     "output_type": "stream",
     "text": [
      "<class 'pandas.core.frame.DataFrame'>\n",
      "RangeIndex: 432 entries, 0 to 431\n",
      "Data columns (total 18 columns):\n",
      " #   Column        Non-Null Count  Dtype  \n",
      "---  ------        --------------  -----  \n",
      " 0   Unnamed: 0    432 non-null    int64  \n",
      " 1   ARS-ID        432 non-null    int64  \n",
      " 2   버스 총 승차수      432 non-null    int64  \n",
      " 3   쉼터여부          432 non-null    int64  \n",
      " 4   NODE_ID       432 non-null    int64  \n",
      " 5   정류소명          432 non-null    object \n",
      " 6   위도            432 non-null    float64\n",
      " 7   경도            432 non-null    float64\n",
      " 8   버스 수          432 non-null    int64  \n",
      " 9   버스 노선 리스트     432 non-null    object \n",
      " 10  평균 배차 간격      432 non-null    float64\n",
      " 11  최대 배차 간격      432 non-null    int64  \n",
      " 12  가장 가까운 지하철역   432 non-null    object \n",
      " 13  지하철역 최단거리(m)  432 non-null    float64\n",
      " 14  도로명           432 non-null    object \n",
      " 15  도로폭           432 non-null    object \n",
      " 16  도로폭_숫자        432 non-null    int64  \n",
      " 17  인구            432 non-null    int64  \n",
      "dtypes: float64(4), int64(9), object(5)\n",
      "memory usage: 60.9+ KB\n"
     ]
    }
   ],
   "source": [
    "df.info()"
   ]
  },
  {
   "cell_type": "code",
   "execution_count": 8,
   "metadata": {},
   "outputs": [
    {
     "data": {
      "text/html": [
       "<div>\n",
       "<style scoped>\n",
       "    .dataframe tbody tr th:only-of-type {\n",
       "        vertical-align: middle;\n",
       "    }\n",
       "\n",
       "    .dataframe tbody tr th {\n",
       "        vertical-align: top;\n",
       "    }\n",
       "\n",
       "    .dataframe thead th {\n",
       "        text-align: right;\n",
       "    }\n",
       "</style>\n",
       "<table border=\"1\" class=\"dataframe\">\n",
       "  <thead>\n",
       "    <tr style=\"text-align: right;\">\n",
       "      <th></th>\n",
       "      <th>nan_count</th>\n",
       "    </tr>\n",
       "  </thead>\n",
       "  <tbody>\n",
       "    <tr>\n",
       "      <th>Unnamed: 0</th>\n",
       "      <td>0</td>\n",
       "    </tr>\n",
       "    <tr>\n",
       "      <th>ARS-ID</th>\n",
       "      <td>0</td>\n",
       "    </tr>\n",
       "    <tr>\n",
       "      <th>버스 총 승차수</th>\n",
       "      <td>0</td>\n",
       "    </tr>\n",
       "    <tr>\n",
       "      <th>쉼터여부</th>\n",
       "      <td>0</td>\n",
       "    </tr>\n",
       "    <tr>\n",
       "      <th>NODE_ID</th>\n",
       "      <td>0</td>\n",
       "    </tr>\n",
       "    <tr>\n",
       "      <th>정류소명</th>\n",
       "      <td>0</td>\n",
       "    </tr>\n",
       "    <tr>\n",
       "      <th>위도</th>\n",
       "      <td>0</td>\n",
       "    </tr>\n",
       "    <tr>\n",
       "      <th>경도</th>\n",
       "      <td>0</td>\n",
       "    </tr>\n",
       "    <tr>\n",
       "      <th>버스 수</th>\n",
       "      <td>0</td>\n",
       "    </tr>\n",
       "    <tr>\n",
       "      <th>버스 노선 리스트</th>\n",
       "      <td>0</td>\n",
       "    </tr>\n",
       "    <tr>\n",
       "      <th>평균 배차 간격</th>\n",
       "      <td>0</td>\n",
       "    </tr>\n",
       "    <tr>\n",
       "      <th>최대 배차 간격</th>\n",
       "      <td>0</td>\n",
       "    </tr>\n",
       "    <tr>\n",
       "      <th>가장 가까운 지하철역</th>\n",
       "      <td>0</td>\n",
       "    </tr>\n",
       "    <tr>\n",
       "      <th>지하철역 최단거리(m)</th>\n",
       "      <td>0</td>\n",
       "    </tr>\n",
       "    <tr>\n",
       "      <th>도로명</th>\n",
       "      <td>0</td>\n",
       "    </tr>\n",
       "    <tr>\n",
       "      <th>도로폭</th>\n",
       "      <td>0</td>\n",
       "    </tr>\n",
       "    <tr>\n",
       "      <th>도로폭_숫자</th>\n",
       "      <td>0</td>\n",
       "    </tr>\n",
       "    <tr>\n",
       "      <th>인구</th>\n",
       "      <td>0</td>\n",
       "    </tr>\n",
       "  </tbody>\n",
       "</table>\n",
       "</div>"
      ],
      "text/plain": [
       "              nan_count\n",
       "Unnamed: 0            0\n",
       "ARS-ID                0\n",
       "버스 총 승차수              0\n",
       "쉼터여부                  0\n",
       "NODE_ID               0\n",
       "정류소명                  0\n",
       "위도                    0\n",
       "경도                    0\n",
       "버스 수                  0\n",
       "버스 노선 리스트             0\n",
       "평균 배차 간격              0\n",
       "최대 배차 간격              0\n",
       "가장 가까운 지하철역           0\n",
       "지하철역 최단거리(m)          0\n",
       "도로명                   0\n",
       "도로폭                   0\n",
       "도로폭_숫자                0\n",
       "인구                    0"
      ]
     },
     "execution_count": 8,
     "metadata": {},
     "output_type": "execute_result"
    }
   ],
   "source": [
    "# 결측치 개수 파악\n",
    "df.isnull().sum().to_frame('nan_count')"
   ]
  },
  {
   "cell_type": "code",
   "execution_count": 9,
   "metadata": {},
   "outputs": [
    {
     "data": {
      "text/html": [
       "<div>\n",
       "<style scoped>\n",
       "    .dataframe tbody tr th:only-of-type {\n",
       "        vertical-align: middle;\n",
       "    }\n",
       "\n",
       "    .dataframe tbody tr th {\n",
       "        vertical-align: top;\n",
       "    }\n",
       "\n",
       "    .dataframe thead th {\n",
       "        text-align: right;\n",
       "    }\n",
       "</style>\n",
       "<table border=\"1\" class=\"dataframe\">\n",
       "  <thead>\n",
       "    <tr style=\"text-align: right;\">\n",
       "      <th></th>\n",
       "      <th>nan_ratio</th>\n",
       "    </tr>\n",
       "  </thead>\n",
       "  <tbody>\n",
       "    <tr>\n",
       "      <th>Unnamed: 0</th>\n",
       "      <td>0.0</td>\n",
       "    </tr>\n",
       "    <tr>\n",
       "      <th>ARS-ID</th>\n",
       "      <td>0.0</td>\n",
       "    </tr>\n",
       "    <tr>\n",
       "      <th>버스 총 승차수</th>\n",
       "      <td>0.0</td>\n",
       "    </tr>\n",
       "    <tr>\n",
       "      <th>쉼터여부</th>\n",
       "      <td>0.0</td>\n",
       "    </tr>\n",
       "    <tr>\n",
       "      <th>NODE_ID</th>\n",
       "      <td>0.0</td>\n",
       "    </tr>\n",
       "    <tr>\n",
       "      <th>정류소명</th>\n",
       "      <td>0.0</td>\n",
       "    </tr>\n",
       "    <tr>\n",
       "      <th>위도</th>\n",
       "      <td>0.0</td>\n",
       "    </tr>\n",
       "    <tr>\n",
       "      <th>경도</th>\n",
       "      <td>0.0</td>\n",
       "    </tr>\n",
       "    <tr>\n",
       "      <th>버스 수</th>\n",
       "      <td>0.0</td>\n",
       "    </tr>\n",
       "    <tr>\n",
       "      <th>버스 노선 리스트</th>\n",
       "      <td>0.0</td>\n",
       "    </tr>\n",
       "    <tr>\n",
       "      <th>평균 배차 간격</th>\n",
       "      <td>0.0</td>\n",
       "    </tr>\n",
       "    <tr>\n",
       "      <th>최대 배차 간격</th>\n",
       "      <td>0.0</td>\n",
       "    </tr>\n",
       "    <tr>\n",
       "      <th>가장 가까운 지하철역</th>\n",
       "      <td>0.0</td>\n",
       "    </tr>\n",
       "    <tr>\n",
       "      <th>지하철역 최단거리(m)</th>\n",
       "      <td>0.0</td>\n",
       "    </tr>\n",
       "    <tr>\n",
       "      <th>도로명</th>\n",
       "      <td>0.0</td>\n",
       "    </tr>\n",
       "    <tr>\n",
       "      <th>도로폭</th>\n",
       "      <td>0.0</td>\n",
       "    </tr>\n",
       "    <tr>\n",
       "      <th>도로폭_숫자</th>\n",
       "      <td>0.0</td>\n",
       "    </tr>\n",
       "    <tr>\n",
       "      <th>인구</th>\n",
       "      <td>0.0</td>\n",
       "    </tr>\n",
       "  </tbody>\n",
       "</table>\n",
       "</div>"
      ],
      "text/plain": [
       "              nan_ratio\n",
       "Unnamed: 0          0.0\n",
       "ARS-ID              0.0\n",
       "버스 총 승차수            0.0\n",
       "쉼터여부                0.0\n",
       "NODE_ID             0.0\n",
       "정류소명                0.0\n",
       "위도                  0.0\n",
       "경도                  0.0\n",
       "버스 수                0.0\n",
       "버스 노선 리스트           0.0\n",
       "평균 배차 간격            0.0\n",
       "최대 배차 간격            0.0\n",
       "가장 가까운 지하철역         0.0\n",
       "지하철역 최단거리(m)        0.0\n",
       "도로명                 0.0\n",
       "도로폭                 0.0\n",
       "도로폭_숫자              0.0\n",
       "인구                  0.0"
      ]
     },
     "execution_count": 9,
     "metadata": {},
     "output_type": "execute_result"
    }
   ],
   "source": [
    "# 결측치 비율 파악\n",
    "pd.DataFrame(data=df.isnull().sum()/len(df),columns=['nan_ratio'])"
   ]
  },
  {
   "cell_type": "code",
   "execution_count": 10,
   "metadata": {},
   "outputs": [
    {
     "data": {
      "text/plain": [
       "Unnamed: 0        int64\n",
       "ARS-ID            int64\n",
       "버스 총 승차수          int64\n",
       "쉼터여부              int64\n",
       "NODE_ID           int64\n",
       "정류소명             object\n",
       "위도              float64\n",
       "경도              float64\n",
       "버스 수              int64\n",
       "버스 노선 리스트        object\n",
       "평균 배차 간격        float64\n",
       "최대 배차 간격          int64\n",
       "가장 가까운 지하철역      object\n",
       "지하철역 최단거리(m)    float64\n",
       "도로명              object\n",
       "도로폭              object\n",
       "도로폭_숫자            int64\n",
       "인구                int64\n",
       "dtype: object"
      ]
     },
     "execution_count": 10,
     "metadata": {},
     "output_type": "execute_result"
    }
   ],
   "source": [
    "# 변수 타입 파악\n",
    "df.dtypes"
   ]
  },
  {
   "cell_type": "code",
   "execution_count": 11,
   "metadata": {},
   "outputs": [
    {
     "data": {
      "text/plain": [
       "0    387\n",
       "1     45\n",
       "Name: 쉼터여부, dtype: int64"
      ]
     },
     "execution_count": 11,
     "metadata": {},
     "output_type": "execute_result"
    }
   ],
   "source": [
    "#성동구 쉼터있는 버스정류장 45개,쉼터 없는 버스정류장 387개\n",
    "df['쉼터여부'].value_counts()"
   ]
  },
  {
   "cell_type": "code",
   "execution_count": 12,
   "metadata": {},
   "outputs": [
    {
     "data": {
      "text/plain": [
       "count      432.000000\n",
       "mean      6629.250000\n",
       "std      10421.095101\n",
       "min          5.000000\n",
       "25%        761.500000\n",
       "50%       2500.000000\n",
       "75%       8296.000000\n",
       "max      73750.000000\n",
       "Name: 버스 총 승차수, dtype: float64"
      ]
     },
     "execution_count": 12,
     "metadata": {},
     "output_type": "execute_result"
    }
   ],
   "source": [
    "#사용할 변수6개 통계적 수치확인\n",
    "df['버스 총 승차수'].describe()"
   ]
  },
  {
   "cell_type": "code",
   "execution_count": 13,
   "metadata": {},
   "outputs": [
    {
     "data": {
      "text/plain": [
       "count    432.000000\n",
       "mean       2.138889\n",
       "std        1.891283\n",
       "min        1.000000\n",
       "25%        1.000000\n",
       "50%        1.000000\n",
       "75%        3.000000\n",
       "max       11.000000\n",
       "Name: 버스 수, dtype: float64"
      ]
     },
     "execution_count": 13,
     "metadata": {},
     "output_type": "execute_result"
    }
   ],
   "source": [
    "df['버스 수'].describe()"
   ]
  },
  {
   "cell_type": "code",
   "execution_count": 14,
   "metadata": {},
   "outputs": [
    {
     "data": {
      "text/plain": [
       "count     432.000000\n",
       "mean      409.628611\n",
       "std       230.309041\n",
       "min         7.611000\n",
       "25%       262.363000\n",
       "50%       387.030000\n",
       "75%       530.697000\n",
       "max      1178.706000\n",
       "Name: 지하철역 최단거리(m), dtype: float64"
      ]
     },
     "execution_count": 14,
     "metadata": {},
     "output_type": "execute_result"
    }
   ],
   "source": [
    "df['지하철역 최단거리(m)'].describe()"
   ]
  },
  {
   "cell_type": "code",
   "execution_count": 15,
   "metadata": {},
   "outputs": [
    {
     "data": {
      "text/plain": [
       "count    432.000000\n",
       "mean      11.758866\n",
       "std        3.756025\n",
       "min        7.000000\n",
       "25%        9.000000\n",
       "50%       10.400000\n",
       "75%       13.000000\n",
       "max       23.000000\n",
       "Name: 평균 배차 간격, dtype: float64"
      ]
     },
     "execution_count": 15,
     "metadata": {},
     "output_type": "execute_result"
    }
   ],
   "source": [
    "df['평균 배차 간격'].describe()"
   ]
  },
  {
   "cell_type": "code",
   "execution_count": 16,
   "metadata": {},
   "outputs": [
    {
     "data": {
      "text/plain": [
       "count    432.000000\n",
       "mean       2.703704\n",
       "std        2.119446\n",
       "min        1.000000\n",
       "25%        1.000000\n",
       "50%        2.000000\n",
       "75%        4.000000\n",
       "max        9.000000\n",
       "Name: 도로폭_숫자, dtype: float64"
      ]
     },
     "execution_count": 16,
     "metadata": {},
     "output_type": "execute_result"
    }
   ],
   "source": [
    "df['도로폭_숫자'].describe()"
   ]
  },
  {
   "cell_type": "code",
   "execution_count": 17,
   "metadata": {},
   "outputs": [
    {
     "data": {
      "text/plain": [
       "count      432.000000\n",
       "mean     17630.340278\n",
       "std       5110.674204\n",
       "min      10343.000000\n",
       "25%      13893.000000\n",
       "50%      15608.000000\n",
       "75%      22459.000000\n",
       "max      26534.000000\n",
       "Name: 인구, dtype: float64"
      ]
     },
     "execution_count": 17,
     "metadata": {},
     "output_type": "execute_result"
    }
   ],
   "source": [
    "df['인구'].describe()"
   ]
  },
  {
   "cell_type": "code",
   "execution_count": 18,
   "metadata": {},
   "outputs": [
    {
     "data": {
      "image/png": "[encoded data removed]",
      "text/plain": [
       "<Figure size 720x360 with 1 Axes>"
      ]
     },
     "metadata": {},
     "output_type": "display_data"
    }
   ],
   "source": [
    "## 연속형 그래프\n",
    "# plt.figure(figsize=(10,5))\n",
    "# kde=sns.kdeplot(df['버스 수'],label='버스 수',color = 'green') \n",
    "# kde.set_xlabel('버스 수')\n",
    "# kde.set_ylabel(\"빈도\")\n",
    "# plt.show()\n",
    "\n",
    "# 막대그래프\n",
    "plt.figure(figsize=(10,5))\n",
    "sns.countplot(data = df, x = '버스 수',color = 'limegreen', alpha = 0.5, edgecolor='k')\n",
    "plt.legend(labels=[\"버스 수\"])\n",
    "plt.show()"
   ]
  },
  {
   "cell_type": "code",
   "execution_count": 19,
   "metadata": {},
   "outputs": [
    {
     "data": {
      "image/png": "[encoded data removed]",
      "text/plain": [
       "<Figure size 720x360 with 1 Axes>"
      ]
     },
     "metadata": {},
     "output_type": "display_data"
    }
   ],
   "source": [
    "## 연속형 그래프\n",
    "# plt.figure(figsize=(10,5))\n",
    "# kde=sns.kdeplot(df['버스 총 승차수'], label='버스 총 승차수',color='red')\n",
    "# plt.legend(labels=['버스 총 승차수'])\n",
    "# kde.set_xlabel('버스 총 승차수')\n",
    "# kde.set_ylabel(\"빈도\")\n",
    "# plt.show()\n",
    "\n",
    "# 히스토그램\n",
    "plt.figure(figsize=(10,5))\n",
    "plt.hist(df['버스 총 승차수'], bins=30, label='버스 총 승차수',color = 'red', alpha = 0.4, edgecolor='k')\n",
    "plt.legend(labels=[\"버스 총 승차수\"])\n",
    "plt.show()"
   ]
  },
  {
   "cell_type": "code",
   "execution_count": 20,
   "metadata": {},
   "outputs": [
    {
     "data": {
      "image/png": "[encoded data removed]",
      "text/plain": [
       "<Figure size 720x360 with 1 Axes>"
      ]
     },
     "metadata": {},
     "output_type": "display_data"
    }
   ],
   "source": [
    "# # 연속형 그래프\n",
    "# plt.figure(figsize=(10,5))\n",
    "# kde=sns.kdeplot(df['평균 배차 간격'], label='평균 배차 간격',color='blue')\n",
    "# plt.legend(labels=[\"평균 배차 간격\"])\n",
    "# kde.set_xlabel('평균 배차 간격')\n",
    "# kde.set_ylabel(\"빈도\")\n",
    "# plt.show()\n",
    "\n",
    "# 히스토그램\n",
    "plt.figure(figsize=(10,5))\n",
    "plt.hist(df['평균 배차 간격'], bins=30, label='평균 배차 간격',color = 'orange', edgecolor='k')\n",
    "plt.legend(labels=[\"평균 배차 간격\"])\n",
    "plt.show()"
   ]
  },
  {
   "cell_type": "code",
   "execution_count": 21,
   "metadata": {},
   "outputs": [
    {
     "data": {
      "image/png": "[encoded data removed]",
      "text/plain": [
       "<Figure size 720x360 with 1 Axes>"
      ]
     },
     "metadata": {},
     "output_type": "display_data"
    }
   ],
   "source": [
    "# # 연속형 그래프\n",
    "# plt.figure(figsize=(10,5))\n",
    "# kde=sns.kdeplot(df['도로폭_숫자'],color = 'violet')\n",
    "# plt.legend(labels=[\"도로폭\"])\n",
    "# kde.set_xlabel('도로폭')\n",
    "# kde.set_ylabel(\"빈도\")\n",
    "# plt.show()\n",
    "\n",
    "# 막대그래프\n",
    "plt.figure(figsize=(10,5))\n",
    "sns.countplot(data = df, x = '도로폭',color = 'plum', edgecolor='k', order = ['6m미만', '폭6-8m','폭8-10m','폭10-12m','폭12-15m','폭15-20m'\n",
    "                                                                          ,'폭20-25m','폭25-30m','폭30-35m'])\n",
    "\n",
    "\n",
    "plt.legend(labels=[\"도로폭\"])\n",
    "plt.show()"
   ]
  },
  {
   "cell_type": "code",
   "execution_count": 22,
   "metadata": {},
   "outputs": [
    {
     "data": {
      "image/png": "[encoded data removed]",
      "text/plain": [
       "<Figure size 720x360 with 1 Axes>"
      ]
     },
     "metadata": {},
     "output_type": "display_data"
    }
   ],
   "source": [
    "# # 연속형 그래프\n",
    "# plt.figure(figsize=(10,5))\n",
    "# kde=sns.kdeplot(df['지하철역 최단거리(m)'],color = 'lightseagreen')\n",
    "# plt.legend(labels=['지하철역 최단거리(m)'])\n",
    "# kde.set_xlabel('지하철역 최단거리(m)')\n",
    "# kde.set_ylabel(\"빈도\")\n",
    "# plt.show()\n",
    "\n",
    "# 히스토그램\n",
    "plt.figure(figsize=(10,5))\n",
    "plt.hist(df['지하철역 최단거리(m)'], bins=10, label='지하철역 최단거리(m)',color = 'cornflowerblue', alpha = 0.6, edgecolor='k')\n",
    "plt.legend()\n",
    "plt.show()"
   ]
  },
  {
   "cell_type": "code",
   "execution_count": 23,
   "metadata": {},
   "outputs": [
    {
     "data": {
      "image/png": "[encoded data removed]",
      "text/plain": [
       "<Figure size 720x360 with 1 Axes>"
      ]
     },
     "metadata": {},
     "output_type": "display_data"
    }
   ],
   "source": [
    "# 연속형 그래프\n",
    "plt.figure(figsize=(10,5))\n",
    "kde=sns.kdeplot(df['인구'],color = 'grey')\n",
    "plt.legend(labels=['인구 수'])\n",
    "kde.set_xlabel('인구 수')\n",
    "kde.set_ylabel(\"빈도\")\n",
    "plt.show()\n",
    "\n",
    "# # 히스토그램\n",
    "# plt.figure(figsize=(10,5))\n",
    "# plt.hist(df['인구'], bins=10, label='인구 수',color = 'darkgrey', alpha = 0.8, edgecolor='k')\n",
    "# plt.legend()\n",
    "# plt.show()"
   ]
  },
  {
   "cell_type": "code",
   "execution_count": 24,
   "metadata": {},
   "outputs": [
    {
     "data": {
      "text/html": [
       "<div>\n",
       "<style scoped>\n",
       "    .dataframe tbody tr th:only-of-type {\n",
       "        vertical-align: middle;\n",
       "    }\n",
       "\n",
       "    .dataframe tbody tr th {\n",
       "        vertical-align: top;\n",
       "    }\n",
       "\n",
       "    .dataframe thead th {\n",
       "        text-align: right;\n",
       "    }\n",
       "</style>\n",
       "<table border=\"1\" class=\"dataframe\">\n",
       "  <thead>\n",
       "    <tr style=\"text-align: right;\">\n",
       "      <th></th>\n",
       "      <th>버스 수</th>\n",
       "      <th>버스 총 승차수</th>\n",
       "      <th>평균 배차 간격</th>\n",
       "      <th>지하철역 최단거리(m)</th>\n",
       "      <th>도로폭</th>\n",
       "      <th>인구</th>\n",
       "    </tr>\n",
       "  </thead>\n",
       "  <tbody>\n",
       "    <tr>\n",
       "      <th>0</th>\n",
       "      <td>0.5</td>\n",
       "      <td>0.532443</td>\n",
       "      <td>0.416875</td>\n",
       "      <td>0.178931</td>\n",
       "      <td>0.25</td>\n",
       "      <td>0.069915</td>\n",
       "    </tr>\n",
       "    <tr>\n",
       "      <th>1</th>\n",
       "      <td>0.8</td>\n",
       "      <td>0.505539</td>\n",
       "      <td>0.430625</td>\n",
       "      <td>0.307582</td>\n",
       "      <td>0.25</td>\n",
       "      <td>0.069915</td>\n",
       "    </tr>\n",
       "    <tr>\n",
       "      <th>2</th>\n",
       "      <td>0.9</td>\n",
       "      <td>0.832138</td>\n",
       "      <td>0.437500</td>\n",
       "      <td>0.109859</td>\n",
       "      <td>0.25</td>\n",
       "      <td>0.069915</td>\n",
       "    </tr>\n",
       "    <tr>\n",
       "      <th>3</th>\n",
       "      <td>0.4</td>\n",
       "      <td>0.243596</td>\n",
       "      <td>0.362500</td>\n",
       "      <td>0.029713</td>\n",
       "      <td>0.50</td>\n",
       "      <td>0.369156</td>\n",
       "    </tr>\n",
       "    <tr>\n",
       "      <th>4</th>\n",
       "      <td>1.0</td>\n",
       "      <td>0.474636</td>\n",
       "      <td>0.323750</td>\n",
       "      <td>0.013485</td>\n",
       "      <td>0.50</td>\n",
       "      <td>0.369156</td>\n",
       "    </tr>\n",
       "    <tr>\n",
       "      <th>...</th>\n",
       "      <td>...</td>\n",
       "      <td>...</td>\n",
       "      <td>...</td>\n",
       "      <td>...</td>\n",
       "      <td>...</td>\n",
       "      <td>...</td>\n",
       "    </tr>\n",
       "    <tr>\n",
       "      <th>427</th>\n",
       "      <td>0.0</td>\n",
       "      <td>0.006089</td>\n",
       "      <td>0.437500</td>\n",
       "      <td>0.169657</td>\n",
       "      <td>0.00</td>\n",
       "      <td>0.109073</td>\n",
       "    </tr>\n",
       "    <tr>\n",
       "      <th>428</th>\n",
       "      <td>0.0</td>\n",
       "      <td>0.010157</td>\n",
       "      <td>0.437500</td>\n",
       "      <td>0.236785</td>\n",
       "      <td>0.00</td>\n",
       "      <td>0.109073</td>\n",
       "    </tr>\n",
       "    <tr>\n",
       "      <th>429</th>\n",
       "      <td>0.0</td>\n",
       "      <td>0.003512</td>\n",
       "      <td>0.437500</td>\n",
       "      <td>0.242049</td>\n",
       "      <td>0.00</td>\n",
       "      <td>0.109073</td>\n",
       "    </tr>\n",
       "    <tr>\n",
       "      <th>430</th>\n",
       "      <td>0.0</td>\n",
       "      <td>0.040233</td>\n",
       "      <td>0.437500</td>\n",
       "      <td>0.150426</td>\n",
       "      <td>0.00</td>\n",
       "      <td>0.109073</td>\n",
       "    </tr>\n",
       "    <tr>\n",
       "      <th>431</th>\n",
       "      <td>0.3</td>\n",
       "      <td>0.101200</td>\n",
       "      <td>0.265625</td>\n",
       "      <td>0.548301</td>\n",
       "      <td>0.25</td>\n",
       "      <td>0.069915</td>\n",
       "    </tr>\n",
       "  </tbody>\n",
       "</table>\n",
       "<p>432 rows × 6 columns</p>\n",
       "</div>"
      ],
      "text/plain": [
       "     버스 수  버스 총 승차수  평균 배차 간격  지하철역 최단거리(m)   도로폭        인구\n",
       "0     0.5  0.532443  0.416875      0.178931  0.25  0.069915\n",
       "1     0.8  0.505539  0.430625      0.307582  0.25  0.069915\n",
       "2     0.9  0.832138  0.437500      0.109859  0.25  0.069915\n",
       "3     0.4  0.243596  0.362500      0.029713  0.50  0.369156\n",
       "4     1.0  0.474636  0.323750      0.013485  0.50  0.369156\n",
       "..    ...       ...       ...           ...   ...       ...\n",
       "427   0.0  0.006089  0.437500      0.169657  0.00  0.109073\n",
       "428   0.0  0.010157  0.437500      0.236785  0.00  0.109073\n",
       "429   0.0  0.003512  0.437500      0.242049  0.00  0.109073\n",
       "430   0.0  0.040233  0.437500      0.150426  0.00  0.109073\n",
       "431   0.3  0.101200  0.265625      0.548301  0.25  0.069915\n",
       "\n",
       "[432 rows x 6 columns]"
      ]
     },
     "execution_count": 24,
     "metadata": {},
     "output_type": "execute_result"
    }
   ],
   "source": [
    "from sklearn.preprocessing import MinMaxScaler\n",
    "#평균0 표쥰편차1로 스케일링\n",
    "scaler = MinMaxScaler()\n",
    "df_std = scaler.fit_transform(df[['버스 수','버스 총 승차수','평균 배차 간격','지하철역 최단거리(m)','도로폭_숫자','인구']])\n",
    "df1 = pd.DataFrame(df_std, columns=['버스 수','버스 총 승차수','평균 배차 간격','지하철역 최단거리(m)','도로폭','인구'])\n",
    "df1"
   ]
  },
  {
   "cell_type": "code",
   "execution_count": 25,
   "metadata": {},
   "outputs": [
    {
     "data": {
      "text/html": [
       "<div>\n",
       "<style scoped>\n",
       "    .dataframe tbody tr th:only-of-type {\n",
       "        vertical-align: middle;\n",
       "    }\n",
       "\n",
       "    .dataframe tbody tr th {\n",
       "        vertical-align: top;\n",
       "    }\n",
       "\n",
       "    .dataframe thead th {\n",
       "        text-align: right;\n",
       "    }\n",
       "</style>\n",
       "<table border=\"1\" class=\"dataframe\">\n",
       "  <thead>\n",
       "    <tr style=\"text-align: right;\">\n",
       "      <th></th>\n",
       "      <th>쉼터여부</th>\n",
       "      <th>버스 수</th>\n",
       "      <th>버스 총 승차수</th>\n",
       "      <th>평균 배차 간격</th>\n",
       "      <th>지하철역 최단거리(m)</th>\n",
       "      <th>도로폭</th>\n",
       "      <th>인구</th>\n",
       "    </tr>\n",
       "  </thead>\n",
       "  <tbody>\n",
       "    <tr>\n",
       "      <th>0</th>\n",
       "      <td>0</td>\n",
       "      <td>0.5</td>\n",
       "      <td>0.532443</td>\n",
       "      <td>0.416875</td>\n",
       "      <td>0.178931</td>\n",
       "      <td>0.25</td>\n",
       "      <td>0.069915</td>\n",
       "    </tr>\n",
       "    <tr>\n",
       "      <th>1</th>\n",
       "      <td>0</td>\n",
       "      <td>0.8</td>\n",
       "      <td>0.505539</td>\n",
       "      <td>0.430625</td>\n",
       "      <td>0.307582</td>\n",
       "      <td>0.25</td>\n",
       "      <td>0.069915</td>\n",
       "    </tr>\n",
       "    <tr>\n",
       "      <th>2</th>\n",
       "      <td>0</td>\n",
       "      <td>0.9</td>\n",
       "      <td>0.832138</td>\n",
       "      <td>0.437500</td>\n",
       "      <td>0.109859</td>\n",
       "      <td>0.25</td>\n",
       "      <td>0.069915</td>\n",
       "    </tr>\n",
       "    <tr>\n",
       "      <th>3</th>\n",
       "      <td>1</td>\n",
       "      <td>0.4</td>\n",
       "      <td>0.243596</td>\n",
       "      <td>0.362500</td>\n",
       "      <td>0.029713</td>\n",
       "      <td>0.50</td>\n",
       "      <td>0.369156</td>\n",
       "    </tr>\n",
       "    <tr>\n",
       "      <th>4</th>\n",
       "      <td>1</td>\n",
       "      <td>1.0</td>\n",
       "      <td>0.474636</td>\n",
       "      <td>0.323750</td>\n",
       "      <td>0.013485</td>\n",
       "      <td>0.50</td>\n",
       "      <td>0.369156</td>\n",
       "    </tr>\n",
       "    <tr>\n",
       "      <th>...</th>\n",
       "      <td>...</td>\n",
       "      <td>...</td>\n",
       "      <td>...</td>\n",
       "      <td>...</td>\n",
       "      <td>...</td>\n",
       "      <td>...</td>\n",
       "      <td>...</td>\n",
       "    </tr>\n",
       "    <tr>\n",
       "      <th>427</th>\n",
       "      <td>0</td>\n",
       "      <td>0.0</td>\n",
       "      <td>0.006089</td>\n",
       "      <td>0.437500</td>\n",
       "      <td>0.169657</td>\n",
       "      <td>0.00</td>\n",
       "      <td>0.109073</td>\n",
       "    </tr>\n",
       "    <tr>\n",
       "      <th>428</th>\n",
       "      <td>0</td>\n",
       "      <td>0.0</td>\n",
       "      <td>0.010157</td>\n",
       "      <td>0.437500</td>\n",
       "      <td>0.236785</td>\n",
       "      <td>0.00</td>\n",
       "      <td>0.109073</td>\n",
       "    </tr>\n",
       "    <tr>\n",
       "      <th>429</th>\n",
       "      <td>0</td>\n",
       "      <td>0.0</td>\n",
       "      <td>0.003512</td>\n",
       "      <td>0.437500</td>\n",
       "      <td>0.242049</td>\n",
       "      <td>0.00</td>\n",
       "      <td>0.109073</td>\n",
       "    </tr>\n",
       "    <tr>\n",
       "      <th>430</th>\n",
       "      <td>0</td>\n",
       "      <td>0.0</td>\n",
       "      <td>0.040233</td>\n",
       "      <td>0.437500</td>\n",
       "      <td>0.150426</td>\n",
       "      <td>0.00</td>\n",
       "      <td>0.109073</td>\n",
       "    </tr>\n",
       "    <tr>\n",
       "      <th>431</th>\n",
       "      <td>0</td>\n",
       "      <td>0.3</td>\n",
       "      <td>0.101200</td>\n",
       "      <td>0.265625</td>\n",
       "      <td>0.548301</td>\n",
       "      <td>0.25</td>\n",
       "      <td>0.069915</td>\n",
       "    </tr>\n",
       "  </tbody>\n",
       "</table>\n",
       "<p>432 rows × 7 columns</p>\n",
       "</div>"
      ],
      "text/plain": [
       "     쉼터여부  버스 수  버스 총 승차수  평균 배차 간격  지하철역 최단거리(m)   도로폭        인구\n",
       "0       0   0.5  0.532443  0.416875      0.178931  0.25  0.069915\n",
       "1       0   0.8  0.505539  0.430625      0.307582  0.25  0.069915\n",
       "2       0   0.9  0.832138  0.437500      0.109859  0.25  0.069915\n",
       "3       1   0.4  0.243596  0.362500      0.029713  0.50  0.369156\n",
       "4       1   1.0  0.474636  0.323750      0.013485  0.50  0.369156\n",
       "..    ...   ...       ...       ...           ...   ...       ...\n",
       "427     0   0.0  0.006089  0.437500      0.169657  0.00  0.109073\n",
       "428     0   0.0  0.010157  0.437500      0.236785  0.00  0.109073\n",
       "429     0   0.0  0.003512  0.437500      0.242049  0.00  0.109073\n",
       "430     0   0.0  0.040233  0.437500      0.150426  0.00  0.109073\n",
       "431     0   0.3  0.101200  0.265625      0.548301  0.25  0.069915\n",
       "\n",
       "[432 rows x 7 columns]"
      ]
     },
     "execution_count": 25,
     "metadata": {},
     "output_type": "execute_result"
    }
   ],
   "source": [
    "# 피쳐들을 스케일링 한후 사용할 데이터\n",
    "df1.insert(0,'쉼터여부',df['쉼터여부'])\n",
    "df1"
   ]
  },
  {
   "cell_type": "code",
   "execution_count": 26,
   "metadata": {},
   "outputs": [
    {
     "data": {
      "image/png": "[encoded data removed]",
      "text/plain": [
       "<Figure size 432x288 with 1 Axes>"
      ]
     },
     "metadata": {},
     "output_type": "display_data"
    },
    {
     "data": {
      "image/png": "[encoded data removed]",
      "text/plain": [
       "<Figure size 432x288 with 1 Axes>"
      ]
     },
     "metadata": {},
     "output_type": "display_data"
    },
    {
     "data": {
      "image/png": "[encoded data removed]",
      "text/plain": [
       "<Figure size 432x288 with 1 Axes>"
      ]
     },
     "metadata": {},
     "output_type": "display_data"
    },
    {
     "data": {
      "image/png": "[encoded data removed]",
      "text/plain": [
       "<Figure size 432x288 with 1 Axes>"
      ]
     },
     "metadata": {},
     "output_type": "display_data"
    },
    {
     "data": {
      "image/png": "[encoded data removed]",
      "text/plain": [
       "<Figure size 432x288 with 1 Axes>"
      ]
     },
     "metadata": {},
     "output_type": "display_data"
    },
    {
     "data": {
      "image/png": "[encoded data removed]",
      "text/plain": [
       "<Figure size 432x288 with 1 Axes>"
      ]
     },
     "metadata": {},
     "output_type": "display_data"
    }
   ],
   "source": [
    "# 표준화 이후 데이터들 분포\n",
    "kde=sns.kdeplot(df1['버스 수'], color = 'green') \n",
    "kde.set_xlabel('버스 수')\n",
    "kde.set_ylabel(\"빈도\")\n",
    "plt.legend(labels=['버스 수'])\n",
    "plt.show()\n",
    "\n",
    "kde=sns.kdeplot(df1['버스 총 승차수'], color='red', alpha = 0.6) \n",
    "kde.set_xlabel('버스 총 승차수')\n",
    "kde.set_ylabel(\"빈도\")\n",
    "plt.legend(labels=['버스 총 승차수'])\n",
    "plt.show()\n",
    "\n",
    "kde=sns.kdeplot(df1['평균 배차 간격'],color = 'orange') \n",
    "kde.set_xlabel('평균 배차 간격')\n",
    "kde.set_ylabel(\"빈도\")\n",
    "plt.legend(labels=['평균 배차 간격'])\n",
    "plt.show()\n",
    "\n",
    "kde=sns.kdeplot(df1['지하철역 최단거리(m)'],color = 'lightseagreen') \n",
    "kde.set_xlabel('지하철역 최단거리(m)')\n",
    "kde.set_ylabel(\"빈도\")\n",
    "plt.legend(labels=['지하철역 최단거리(m)'])\n",
    "plt.show()\n",
    "\n",
    "kde=sns.kdeplot(df1['도로폭'],color = 'violet') \n",
    "kde.set_xlabel('도로폭')\n",
    "kde.set_ylabel(\"빈도\")\n",
    "plt.legend(labels=['도로폭'])\n",
    "plt.show()\n",
    "\n",
    "kde=sns.kdeplot(df1['인구'],color = 'grey', alpha = 0.8) \n",
    "kde.set_xlabel('인구')\n",
    "kde.set_ylabel(\"빈도\")\n",
    "plt.legend(labels=['인구'])\n",
    "plt.show()"
   ]
  },
  {
   "cell_type": "code",
   "execution_count": 27,
   "metadata": {},
   "outputs": [
    {
     "data": {
      "text/html": [
       "<div>\n",
       "<style scoped>\n",
       "    .dataframe tbody tr th:only-of-type {\n",
       "        vertical-align: middle;\n",
       "    }\n",
       "\n",
       "    .dataframe tbody tr th {\n",
       "        vertical-align: top;\n",
       "    }\n",
       "\n",
       "    .dataframe thead th {\n",
       "        text-align: right;\n",
       "    }\n",
       "</style>\n",
       "<table border=\"1\" class=\"dataframe\">\n",
       "  <thead>\n",
       "    <tr style=\"text-align: right;\">\n",
       "      <th></th>\n",
       "      <th>Unnamed: 0</th>\n",
       "      <th>ARS-ID</th>\n",
       "      <th>버스 총 승차수</th>\n",
       "      <th>쉼터여부</th>\n",
       "      <th>NODE_ID</th>\n",
       "      <th>정류소명</th>\n",
       "      <th>위도</th>\n",
       "      <th>경도</th>\n",
       "      <th>버스 수</th>\n",
       "      <th>버스 노선 리스트</th>\n",
       "      <th>평균 배차 간격</th>\n",
       "      <th>최대 배차 간격</th>\n",
       "      <th>가장 가까운 지하철역</th>\n",
       "      <th>지하철역 최단거리(m)</th>\n",
       "      <th>도로명</th>\n",
       "      <th>도로폭</th>\n",
       "      <th>도로폭_숫자</th>\n",
       "      <th>인구</th>\n",
       "    </tr>\n",
       "  </thead>\n",
       "  <tbody>\n",
       "    <tr>\n",
       "      <th>0</th>\n",
       "      <td>0</td>\n",
       "      <td>4001</td>\n",
       "      <td>39270</td>\n",
       "      <td>0</td>\n",
       "      <td>103000001</td>\n",
       "      <td>답십리역사거리</td>\n",
       "      <td>37.565426</td>\n",
       "      <td>127.054368</td>\n",
       "      <td>6</td>\n",
       "      <td>['9403', '370', '303', 'N30', '721', '130']</td>\n",
       "      <td>13.67</td>\n",
       "      <td>40</td>\n",
       "      <td>답십리</td>\n",
       "      <td>217.156</td>\n",
       "      <td>천호대로</td>\n",
       "      <td>폭8-10m</td>\n",
       "      <td>3</td>\n",
       "      <td>11475</td>\n",
       "    </tr>\n",
       "    <tr>\n",
       "      <th>1</th>\n",
       "      <td>1</td>\n",
       "      <td>4002</td>\n",
       "      <td>37286</td>\n",
       "      <td>0</td>\n",
       "      <td>103000002</td>\n",
       "      <td>청년회의소.서울새활용플라자</td>\n",
       "      <td>37.561952</td>\n",
       "      <td>127.060479</td>\n",
       "      <td>9</td>\n",
       "      <td>['9403', '3216', '2221', '370', '3220', '303',...</td>\n",
       "      <td>13.89</td>\n",
       "      <td>40</td>\n",
       "      <td>장한평</td>\n",
       "      <td>367.819</td>\n",
       "      <td>천호대로</td>\n",
       "      <td>폭8-10m</td>\n",
       "      <td>3</td>\n",
       "      <td>11475</td>\n",
       "    </tr>\n",
       "    <tr>\n",
       "      <th>2</th>\n",
       "      <td>2</td>\n",
       "      <td>4003</td>\n",
       "      <td>61371</td>\n",
       "      <td>0</td>\n",
       "      <td>103000003</td>\n",
       "      <td>장한평역</td>\n",
       "      <td>37.561131</td>\n",
       "      <td>127.066098</td>\n",
       "      <td>10</td>\n",
       "      <td>['9403', '2416', '3216', '2221', '370', '3220'...</td>\n",
       "      <td>14.00</td>\n",
       "      <td>40</td>\n",
       "      <td>장한평</td>\n",
       "      <td>136.266</td>\n",
       "      <td>천호대로</td>\n",
       "      <td>폭8-10m</td>\n",
       "      <td>3</td>\n",
       "      <td>11475</td>\n",
       "    </tr>\n",
       "    <tr>\n",
       "      <th>3</th>\n",
       "      <td>3</td>\n",
       "      <td>4101</td>\n",
       "      <td>17969</td>\n",
       "      <td>1</td>\n",
       "      <td>103000004</td>\n",
       "      <td>상왕십리역</td>\n",
       "      <td>37.564279</td>\n",
       "      <td>127.029260</td>\n",
       "      <td>5</td>\n",
       "      <td>['2012', 'N62', '2014', '2015', '463']</td>\n",
       "      <td>12.80</td>\n",
       "      <td>24</td>\n",
       "      <td>상왕십리</td>\n",
       "      <td>42.408</td>\n",
       "      <td>왕십리로</td>\n",
       "      <td>폭12-15m</td>\n",
       "      <td>5</td>\n",
       "      <td>16320</td>\n",
       "    </tr>\n",
       "    <tr>\n",
       "      <th>4</th>\n",
       "      <td>4</td>\n",
       "      <td>4102</td>\n",
       "      <td>35007</td>\n",
       "      <td>1</td>\n",
       "      <td>103000005</td>\n",
       "      <td>상왕십리역</td>\n",
       "      <td>37.564609</td>\n",
       "      <td>127.028642</td>\n",
       "      <td>11</td>\n",
       "      <td>['302', '2013', '2012', 'N62', '2014', '463', ...</td>\n",
       "      <td>12.18</td>\n",
       "      <td>24</td>\n",
       "      <td>상왕십리</td>\n",
       "      <td>23.403</td>\n",
       "      <td>왕십리로</td>\n",
       "      <td>폭12-15m</td>\n",
       "      <td>5</td>\n",
       "      <td>16320</td>\n",
       "    </tr>\n",
       "    <tr>\n",
       "      <th>...</th>\n",
       "      <td>...</td>\n",
       "      <td>...</td>\n",
       "      <td>...</td>\n",
       "      <td>...</td>\n",
       "      <td>...</td>\n",
       "      <td>...</td>\n",
       "      <td>...</td>\n",
       "      <td>...</td>\n",
       "      <td>...</td>\n",
       "      <td>...</td>\n",
       "      <td>...</td>\n",
       "      <td>...</td>\n",
       "      <td>...</td>\n",
       "      <td>...</td>\n",
       "      <td>...</td>\n",
       "      <td>...</td>\n",
       "      <td>...</td>\n",
       "      <td>...</td>\n",
       "    </tr>\n",
       "    <tr>\n",
       "      <th>427</th>\n",
       "      <td>427</td>\n",
       "      <td>4911</td>\n",
       "      <td>454</td>\n",
       "      <td>0</td>\n",
       "      <td>103900293</td>\n",
       "      <td>한양대학교정문</td>\n",
       "      <td>37.557954</td>\n",
       "      <td>127.041932</td>\n",
       "      <td>1</td>\n",
       "      <td>['성동03-2']</td>\n",
       "      <td>14.00</td>\n",
       "      <td>14</td>\n",
       "      <td>한양대</td>\n",
       "      <td>206.295</td>\n",
       "      <td>왕십리로</td>\n",
       "      <td>6m미만</td>\n",
       "      <td>1</td>\n",
       "      <td>12109</td>\n",
       "    </tr>\n",
       "    <tr>\n",
       "      <th>428</th>\n",
       "      <td>428</td>\n",
       "      <td>4912</td>\n",
       "      <td>754</td>\n",
       "      <td>0</td>\n",
       "      <td>103900284</td>\n",
       "      <td>한양대학교제2의학관</td>\n",
       "      <td>37.558815</td>\n",
       "      <td>127.041924</td>\n",
       "      <td>1</td>\n",
       "      <td>['성동03-2']</td>\n",
       "      <td>14.00</td>\n",
       "      <td>14</td>\n",
       "      <td>한양대</td>\n",
       "      <td>284.909</td>\n",
       "      <td>왕십리로</td>\n",
       "      <td>6m미만</td>\n",
       "      <td>1</td>\n",
       "      <td>12109</td>\n",
       "    </tr>\n",
       "    <tr>\n",
       "      <th>429</th>\n",
       "      <td>429</td>\n",
       "      <td>4913</td>\n",
       "      <td>264</td>\n",
       "      <td>0</td>\n",
       "      <td>103900292</td>\n",
       "      <td>한양대학교동문회관</td>\n",
       "      <td>37.558833</td>\n",
       "      <td>127.041823</td>\n",
       "      <td>1</td>\n",
       "      <td>['성동03-2']</td>\n",
       "      <td>14.00</td>\n",
       "      <td>14</td>\n",
       "      <td>한양대</td>\n",
       "      <td>291.073</td>\n",
       "      <td>왕십리로</td>\n",
       "      <td>6m미만</td>\n",
       "      <td>1</td>\n",
       "      <td>12109</td>\n",
       "    </tr>\n",
       "    <tr>\n",
       "      <th>430</th>\n",
       "      <td>430</td>\n",
       "      <td>4914</td>\n",
       "      <td>2972</td>\n",
       "      <td>0</td>\n",
       "      <td>103900283</td>\n",
       "      <td>한양대학교정문</td>\n",
       "      <td>37.557771</td>\n",
       "      <td>127.042058</td>\n",
       "      <td>1</td>\n",
       "      <td>['성동03-2']</td>\n",
       "      <td>14.00</td>\n",
       "      <td>14</td>\n",
       "      <td>한양대</td>\n",
       "      <td>183.774</td>\n",
       "      <td>왕십리로</td>\n",
       "      <td>6m미만</td>\n",
       "      <td>1</td>\n",
       "      <td>12109</td>\n",
       "    </tr>\n",
       "    <tr>\n",
       "      <th>431</th>\n",
       "      <td>431</td>\n",
       "      <td>6507</td>\n",
       "      <td>7468</td>\n",
       "      <td>0</td>\n",
       "      <td>103000508</td>\n",
       "      <td>청계한신휴플러스</td>\n",
       "      <td>37.571710</td>\n",
       "      <td>127.044830</td>\n",
       "      <td>4</td>\n",
       "      <td>['145', '2112', '2015', '1227']</td>\n",
       "      <td>11.25</td>\n",
       "      <td>14</td>\n",
       "      <td>마장</td>\n",
       "      <td>649.723</td>\n",
       "      <td>서울시립대로</td>\n",
       "      <td>폭8-10m</td>\n",
       "      <td>3</td>\n",
       "      <td>11475</td>\n",
       "    </tr>\n",
       "  </tbody>\n",
       "</table>\n",
       "<p>432 rows × 18 columns</p>\n",
       "</div>"
      ],
      "text/plain": [
       "     Unnamed: 0  ARS-ID  버스 총 승차수  쉼터여부    NODE_ID            정류소명         위도  \\\n",
       "0             0    4001     39270     0  103000001         답십리역사거리  37.565426   \n",
       "1             1    4002     37286     0  103000002  청년회의소.서울새활용플라자  37.561952   \n",
       "2             2    4003     61371     0  103000003            장한평역  37.561131   \n",
       "3             3    4101     17969     1  103000004           상왕십리역  37.564279   \n",
       "4             4    4102     35007     1  103000005           상왕십리역  37.564609   \n",
       "..          ...     ...       ...   ...        ...             ...        ...   \n",
       "427         427    4911       454     0  103900293         한양대학교정문  37.557954   \n",
       "428         428    4912       754     0  103900284      한양대학교제2의학관  37.558815   \n",
       "429         429    4913       264     0  103900292       한양대학교동문회관  37.558833   \n",
       "430         430    4914      2972     0  103900283         한양대학교정문  37.557771   \n",
       "431         431    6507      7468     0  103000508        청계한신휴플러스  37.571710   \n",
       "\n",
       "             경도  버스 수                                          버스 노선 리스트  \\\n",
       "0    127.054368     6        ['9403', '370', '303', 'N30', '721', '130']   \n",
       "1    127.060479     9  ['9403', '3216', '2221', '370', '3220', '303',...   \n",
       "2    127.066098    10  ['9403', '2416', '3216', '2221', '370', '3220'...   \n",
       "3    127.029260     5             ['2012', 'N62', '2014', '2015', '463']   \n",
       "4    127.028642    11  ['302', '2013', '2012', 'N62', '2014', '463', ...   \n",
       "..          ...   ...                                                ...   \n",
       "427  127.041932     1                                         ['성동03-2']   \n",
       "428  127.041924     1                                         ['성동03-2']   \n",
       "429  127.041823     1                                         ['성동03-2']   \n",
       "430  127.042058     1                                         ['성동03-2']   \n",
       "431  127.044830     4                    ['145', '2112', '2015', '1227']   \n",
       "\n",
       "     평균 배차 간격  최대 배차 간격 가장 가까운 지하철역  지하철역 최단거리(m)     도로명      도로폭  도로폭_숫자  \\\n",
       "0       13.67        40         답십리       217.156    천호대로   폭8-10m       3   \n",
       "1       13.89        40         장한평       367.819    천호대로   폭8-10m       3   \n",
       "2       14.00        40         장한평       136.266    천호대로   폭8-10m       3   \n",
       "3       12.80        24        상왕십리        42.408    왕십리로  폭12-15m       5   \n",
       "4       12.18        24        상왕십리        23.403    왕십리로  폭12-15m       5   \n",
       "..        ...       ...         ...           ...     ...      ...     ...   \n",
       "427     14.00        14         한양대       206.295    왕십리로     6m미만       1   \n",
       "428     14.00        14         한양대       284.909    왕십리로     6m미만       1   \n",
       "429     14.00        14         한양대       291.073    왕십리로     6m미만       1   \n",
       "430     14.00        14         한양대       183.774    왕십리로     6m미만       1   \n",
       "431     11.25        14          마장       649.723  서울시립대로   폭8-10m       3   \n",
       "\n",
       "        인구  \n",
       "0    11475  \n",
       "1    11475  \n",
       "2    11475  \n",
       "3    16320  \n",
       "4    16320  \n",
       "..     ...  \n",
       "427  12109  \n",
       "428  12109  \n",
       "429  12109  \n",
       "430  12109  \n",
       "431  11475  \n",
       "\n",
       "[432 rows x 18 columns]"
      ]
     },
     "execution_count": 27,
     "metadata": {},
     "output_type": "execute_result"
    }
   ],
   "source": [
    "df"
   ]
  },
  {
   "cell_type": "code",
   "execution_count": 28,
   "metadata": {},
   "outputs": [
    {
     "data": {
      "text/plain": [
       "쉼터여부              int64\n",
       "버스 수            float64\n",
       "버스 총 승차수        float64\n",
       "평균 배차 간격        float64\n",
       "지하철역 최단거리(m)    float64\n",
       "도로폭             float64\n",
       "인구              float64\n",
       "dtype: object"
      ]
     },
     "execution_count": 28,
     "metadata": {},
     "output_type": "execute_result"
    }
   ],
   "source": [
    "df1.dtypes"
   ]
  },
  {
   "cell_type": "code",
   "execution_count": 29,
   "metadata": {},
   "outputs": [
    {
     "data": {
      "text/plain": [
       "17817.875968992248"
      ]
     },
     "execution_count": 29,
     "metadata": {},
     "output_type": "execute_result"
    }
   ],
   "source": [
    "condition1 = (df['쉼터여부'] == 0) # 쉼터가 있음\n",
    "df1 = df.loc[condition1]\n",
    "\n",
    "np.mean(df1['버스 수'])\n",
    "np.mean(df1['버스 총 승차수'])\n",
    "np.mean(df1['평균 배차 간격'])\n",
    "np.mean(df1['지하철역 최단거리(m)'])\n",
    "np.mean(df1['도로폭_숫자'])\n",
    "np.mean(df1['인구'])"
   ]
  },
  {
   "cell_type": "code",
   "execution_count": 30,
   "metadata": {},
   "outputs": [
    {
     "data": {
      "text/plain": [
       "16017.533333333333"
      ]
     },
     "execution_count": 30,
     "metadata": {},
     "output_type": "execute_result"
    }
   ],
   "source": [
    "condition2 = (df['쉼터여부'] == 1) # 쉼터가 있음\n",
    "df2 = df.loc[condition2]\n",
    "\n",
    "np.mean(df2['버스 수'])\n",
    "np.mean(df2['버스 총 승차수'])\n",
    "np.mean(df2['평균 배차 간격'])\n",
    "np.mean(df2['지하철역 최단거리(m)'])\n",
    "np.mean(df2['도로폭_숫자'])\n",
    "np.mean(df2['인구'])"
   ]
  },
  {
   "cell_type": "code",
   "execution_count": 31,
   "metadata": {},
   "outputs": [],
   "source": [
    "list1=[np.mean(df1['버스 수']), np.mean(df2['버스 수'])]\n",
    "list2=[np.mean(df1['버스 총 승차수']), np.mean(df2['버스 총 승차수'])]\n",
    "list3=[np.mean(df1['평균 배차 간격']), np.mean(df2['평균 배차 간격'])]\n",
    "list4=[np.mean(df1['지하철역 최단거리(m)']), np.mean(df2['지하철역 최단거리(m)'])]\n",
    "list5=[np.mean(df1['도로폭_숫자']), np.mean(df2['도로폭_숫자'])]\n",
    "list6=[np.mean(df1['인구']), np.mean(df2['인구'])]"
   ]
  },
  {
   "cell_type": "code",
   "execution_count": 32,
   "metadata": {},
   "outputs": [
    {
     "data": {
      "image/png": "[encoded data removed]",
      "text/plain": [
       "<Figure size 864x432 with 1 Axes>"
      ]
     },
     "metadata": {},
     "output_type": "display_data"
    },
    {
     "data": {
      "image/png": "[encoded data removed]",
      "text/plain": [
       "<Figure size 864x432 with 1 Axes>"
      ]
     },
     "metadata": {},
     "output_type": "display_data"
    },
    {
     "data": {
      "image/png": "[encoded data removed]",
      "text/plain": [
       "<Figure size 864x432 with 1 Axes>"
      ]
     },
     "metadata": {},
     "output_type": "display_data"
    },
    {
     "data": {
      "image/png": "[encoded data removed]",
      "text/plain": [
       "<Figure size 864x432 with 1 Axes>"
      ]
     },
     "metadata": {},
     "output_type": "display_data"
    },
    {
     "data": {
      "image/png": "[encoded data removed]",
      "text/plain": [
       "<Figure size 864x432 with 1 Axes>"
      ]
     },
     "metadata": {},
     "output_type": "display_data"
    },
    {
     "data": {
      "image/png": "[encoded data removed]",
      "text/plain": [
       "<Figure size 864x432 with 1 Axes>"
      ]
     },
     "metadata": {},
     "output_type": "display_data"
    }
   ],
   "source": [
    "plt.figure(figsize=(12,6))\n",
    "plt.xticks(np.arange(0,2,1))\n",
    "plt.rc(\"font\", family='NanumGothic')\n",
    "plt.title(\"쉼터여부 별 버스 수\")\n",
    "plt.xlabel('쉼터여부')\n",
    "plt.ylabel('버스 수')\n",
    "plt.bar([0,1],list1, width=0.3,color = 'lightgreen')\n",
    "for i, v in enumerate([0,1]):\n",
    "    plt.text(v, list1[i], format(list1[i], \".2f\"),                \n",
    "             fontsize = 15, \n",
    "             color='black',\n",
    "             horizontalalignment='center',\n",
    "             verticalalignment='bottom') \n",
    "plt.show()\n",
    "\n",
    "\n",
    "plt.rc(\"font\", family='NanumGothic')\n",
    "plt.figure(figsize=(12,6))\n",
    "plt.xticks(np.arange(0,2,1))\n",
    "plt.title(\"쉼터여부 별 버스 승차 인원\")\n",
    "plt.xlabel('쉼터여부')\n",
    "plt.ylabel('버스 승차 인원')\n",
    "plt.bar([0,1],list2, width=0.3,color = 'lightcoral')\n",
    "for i, v in enumerate([0,1]):\n",
    "    plt.text(v, list2[i], format(list2[i], \".2f\"),                \n",
    "             fontsize = 15, \n",
    "             color='black',\n",
    "             horizontalalignment='center',\n",
    "             verticalalignment='bottom') \n",
    "plt.show()\n",
    "\n",
    "\n",
    "plt.rc(\"font\", family='NanumGothic')\n",
    "plt.figure(figsize=(12,6))\n",
    "plt.xticks(np.arange(0,2,1))\n",
    "plt.title(\"쉼터여부 별 평균 배차 간격\")\n",
    "plt.xlabel('쉼터여부')\n",
    "plt.ylabel('평균 배차 간격')\n",
    "plt.bar([0,1],list3, width=0.3, color='orange')\n",
    "for i, v in enumerate([0,1]):\n",
    "    plt.text(v, list3[i], format(list3[i], \".2f\"),                \n",
    "             fontsize = 15, \n",
    "             color='black',\n",
    "             horizontalalignment='center',\n",
    "             verticalalignment='bottom') \n",
    "plt.show()\n",
    "\n",
    "\n",
    "plt.rc(\"font\", family='NanumGothic')\n",
    "plt.figure(figsize=(12,6))\n",
    "plt.xticks(np.arange(0,2,1))\n",
    "plt.title(\"쉼터여부 별 지하철역 최단거리(m)\")\n",
    "plt.xlabel('쉼터여부')\n",
    "plt.ylabel('지하철역 최단거리(m)')\n",
    "plt.bar([0,1],list4, width=0.3, color = 'cornflowerblue')\n",
    "for i, v in enumerate([0,1]):\n",
    "    plt.text(v, list4[i], format(list4[i], \".2f\"),                \n",
    "             fontsize = 15, \n",
    "             color='black',\n",
    "             horizontalalignment='center',\n",
    "             verticalalignment='bottom') \n",
    "plt.show()\n",
    "\n",
    "\n",
    "plt.rc(\"font\", family='NanumGothic')\n",
    "plt.figure(figsize=(12,6))\n",
    "plt.xticks(np.arange(0,2,1))\n",
    "plt.title(\"쉼터여부 별 도로폭\")\n",
    "plt.xlabel('쉼터여부')\n",
    "plt.ylabel('도로폭')\n",
    "plt.bar([0,1],list5, width=0.3, color = 'plum')\n",
    "for i, v in enumerate([0,1]):\n",
    "    plt.text(v, list5[i], format(list5[i], \".2f\"),                \n",
    "             fontsize = 15, \n",
    "             color='black',\n",
    "             horizontalalignment='center',\n",
    "             verticalalignment='bottom') \n",
    "plt.show()\n",
    "\n",
    "\n",
    "plt.rc(\"font\", family='NanumGothic')\n",
    "plt.figure(figsize=(12,6))\n",
    "plt.xticks(np.arange(0,2,1))\n",
    "plt.title(\"쉼터여부별 인구수\")\n",
    "plt.xlabel('쉼터여부')\n",
    "plt.ylabel('인구수')\n",
    "bar = plt.bar([0,1],list6, width=0.3, color = 'darkgrey')\n",
    "for i, v in enumerate([0,1]):\n",
    "    plt.text(v, list6[i], format(list6[i], \".2f\"),                \n",
    "             fontsize = 15, \n",
    "             color='black',\n",
    "             horizontalalignment='center',\n",
    "             verticalalignment='bottom') \n",
    "plt.show()\n"
   ]
  },
  {
   "cell_type": "code",
   "execution_count": null,
   "metadata": {},
   "outputs": [],
   "source": []
  }
 ],
 "metadata": {
  "kernelspec": {
   "display_name": "Python 3 (ipykernel)",
   "language": "python",
   "name": "python3"
  },
  "language_info": {
   "codemirror_mode": {
    "name": "ipython",
    "version": 3
   },
   "file_extension": ".py",
   "mimetype": "text/x-python",
   "name": "python",
   "nbconvert_exporter": "python",
   "pygments_lexer": "ipython3",
   "version": "3.9.12"
  },
  "vscode": {
   "interpreter": {
    "hash": "303d47488a626c56d730ef6882fac2c0c33f4a7ecacb277a9ba75a8f2c161212"
   }
  }
 },
 "nbformat": 4,
 "nbformat_minor": 2
}
