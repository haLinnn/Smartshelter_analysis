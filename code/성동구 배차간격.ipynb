{
 "cells": [
  {
   "cell_type": "code",
   "execution_count": 125,
   "id": "f905174d",
   "metadata": {},
   "outputs": [
    {
     "name": "stdout",
     "output_type": "stream",
     "text": [
      "{\"comMsgHeader\":{\"errMsg\":null,\"responseMsgID\":null,\"responseTime\":null,\"requestMsgID\":null,\"successYN\":null,\"returnCode\":null},\"msgHeader\":{\"headerMsg\":\"정상적으로 처리되었습니다.\",\"headerCd\":\"0\",\"itemCount\":0},\"msgBody\":{\"itemList\":[{\"busRouteId\":\"100100018\",\"busRouteNm\":\"130\",\"busRouteAbrv\":\"130\",\"length\":\"48.7\",\"routeType\":\"3\",\"stStationNm\":\"우이동\",\"edStationNm\":\"길동\",\"term\":\"7\",\"lastBusYn\":\"0\",\"lastBusTm\":\"20220803225000\",\"firstBusTm\":\"20220803042000\",\"lastLowTm\":\"20200629223800\",\"firstLowTm\":\"20190118000000\",\"corpNm\":\"삼양교통  02-993-0162\"},{\"busRouteId\":\"100100146\",\"busRouteNm\":\"1130\",\"busRouteAbrv\":\"1130\",\"length\":\"7.9\",\"routeType\":\"4\",\"stStationNm\":\"청백아파트1단지\",\"edStationNm\":\"석계역\",\"term\":\"9\",\"lastBusYn\":\" \",\"lastBusTm\":\"20220804001000\",\"firstBusTm\":\"20220803050000\",\"lastLowTm\":\"              \",\"firstLowTm\":\"              \",\"corpNm\":\"삼화상운  02-936-6000\"},{\"busRouteId\":\"165000149\",\"busRouteNm\":\"1300인천\",\"busRouteAbrv\":\"1300\",\"length\":\"0\",\"routeType\":\"7\",\"stStationNm\":\"e편한세상 정문\",\"edStationNm\":\"서울역\",\"term\":\"60\",\"lastBusYn\":\" \",\"lastBusTm\":\"20220803234000\",\"firstBusTm\":\"20220803050000\",\"lastLowTm\":\"              \",\"firstLowTm\":\"              \",\"corpNm\":\"인천\"},{\"busRouteId\":\"165000150\",\"busRouteNm\":\"1301인천\",\"busRouteAbrv\":\"1301\",\"length\":\"0\",\"routeType\":\"7\",\"stStationNm\":\"송도공영차고지\",\"edStationNm\":\"서울역\",\"term\":\"60\",\"lastBusYn\":\" \",\"lastBusTm\":\"20220803230000\",\"firstBusTm\":\"20220803050000\",\"lastLowTm\":\"              \",\"firstLowTm\":\"              \",\"corpNm\":\"인천\"},{\"busRouteId\":\"165000421\",\"busRouteNm\":\"1302인천\",\"busRouteAbrv\":\"1302\",\"length\":\"0\",\"routeType\":\"7\",\"stStationNm\":\"극지연구소\",\"edStationNm\":\"서울역\",\"term\":\"60\",\"lastBusYn\":\" \",\"lastBusTm\":\"20220803230000\",\"firstBusTm\":\"20220803050000\",\"lastLowTm\":\"              \",\"firstLowTm\":\"              \",\"corpNm\":\"인천\"},{\"busRouteId\":\"241006190\",\"busRouteNm\":\"1309고양\",\"busRouteAbrv\":\"1309\",\"length\":\"0\",\"routeType\":\"8\",\"stStationNm\":\"동서울터미널\",\"edStationNm\":\"천안종합터미널\",\"term\":\"20\",\"lastBusYn\":\" \",\"lastBusTm\":\"20220803220000\",\"firstBusTm\":\"20220803061500\",\"lastLowTm\":\"              \",\"firstLowTm\":\"              \",\"corpNm\":\"경기\"},{\"busRouteId\":\"235000092\",\"busRouteNm\":\"G1300양주\",\"busRouteAbrv\":\"G1300\",\"length\":\"0\",\"routeType\":\"8\",\"stStationNm\":\"덕정차고지(경유)\",\"edStationNm\":\"잠실광역환승센터\",\"term\":\"25\",\"lastBusYn\":\" \",\"lastBusTm\":\"20220803223000\",\"firstBusTm\":\"20220803050000\",\"lastLowTm\":\"              \",\"firstLowTm\":\"              \",\"corpNm\":\"경기\"},{\"busRouteId\":\"234001577\",\"busRouteNm\":\"M4130광주\",\"busRouteAbrv\":\"M4130\",\"length\":\"0\",\"routeType\":\"8\",\"stStationNm\":\"호수자이파밀리에.아이원\",\"edStationNm\":\"서울역버스환승센터\",\"term\":\"35\",\"lastBusYn\":\" \",\"lastBusTm\":\"20220803230000\",\"firstBusTm\":\"20220803050000\",\"lastLowTm\":\"              \",\"firstLowTm\":\"              \",\"corpNm\":\"경기\"}]}}\n",
      "{'comMsgHeader': {'errMsg': None, 'responseMsgID': None, 'responseTime': None, 'requestMsgID': None, 'successYN': None, 'returnCode': None}, 'msgHeader': {'headerMsg': '정상적으로 처리되었습니다.', 'headerCd': '0', 'itemCount': 0}, 'msgBody': {'itemList': [{'busRouteId': '100100018', 'busRouteNm': '130', 'busRouteAbrv': '130', 'length': '48.7', 'routeType': '3', 'stStationNm': '우이동', 'edStationNm': '길동', 'term': '7', 'lastBusYn': '0', 'lastBusTm': '20220803225000', 'firstBusTm': '20220803042000', 'lastLowTm': '20200629223800', 'firstLowTm': '20190118000000', 'corpNm': '삼양교통  02-993-0162'}, {'busRouteId': '100100146', 'busRouteNm': '1130', 'busRouteAbrv': '1130', 'length': '7.9', 'routeType': '4', 'stStationNm': '청백아파트1단지', 'edStationNm': '석계역', 'term': '9', 'lastBusYn': ' ', 'lastBusTm': '20220804001000', 'firstBusTm': '20220803050000', 'lastLowTm': '              ', 'firstLowTm': '              ', 'corpNm': '삼화상운  02-936-6000'}, {'busRouteId': '165000149', 'busRouteNm': '1300인천', 'busRouteAbrv': '1300', 'length': '0', 'routeType': '7', 'stStationNm': 'e편한세상 정문', 'edStationNm': '서울역', 'term': '60', 'lastBusYn': ' ', 'lastBusTm': '20220803234000', 'firstBusTm': '20220803050000', 'lastLowTm': '              ', 'firstLowTm': '              ', 'corpNm': '인천'}, {'busRouteId': '165000150', 'busRouteNm': '1301인천', 'busRouteAbrv': '1301', 'length': '0', 'routeType': '7', 'stStationNm': '송도공영차고지', 'edStationNm': '서울역', 'term': '60', 'lastBusYn': ' ', 'lastBusTm': '20220803230000', 'firstBusTm': '20220803050000', 'lastLowTm': '              ', 'firstLowTm': '              ', 'corpNm': '인천'}, {'busRouteId': '165000421', 'busRouteNm': '1302인천', 'busRouteAbrv': '1302', 'length': '0', 'routeType': '7', 'stStationNm': '극지연구소', 'edStationNm': '서울역', 'term': '60', 'lastBusYn': ' ', 'lastBusTm': '20220803230000', 'firstBusTm': '20220803050000', 'lastLowTm': '              ', 'firstLowTm': '              ', 'corpNm': '인천'}, {'busRouteId': '241006190', 'busRouteNm': '1309고양', 'busRouteAbrv': '1309', 'length': '0', 'routeType': '8', 'stStationNm': '동서울터미널', 'edStationNm': '천안종합터미널', 'term': '20', 'lastBusYn': ' ', 'lastBusTm': '20220803220000', 'firstBusTm': '20220803061500', 'lastLowTm': '              ', 'firstLowTm': '              ', 'corpNm': '경기'}, {'busRouteId': '235000092', 'busRouteNm': 'G1300양주', 'busRouteAbrv': 'G1300', 'length': '0', 'routeType': '8', 'stStationNm': '덕정차고지(경유)', 'edStationNm': '잠실광역환승센터', 'term': '25', 'lastBusYn': ' ', 'lastBusTm': '20220803223000', 'firstBusTm': '20220803050000', 'lastLowTm': '              ', 'firstLowTm': '              ', 'corpNm': '경기'}, {'busRouteId': '234001577', 'busRouteNm': 'M4130광주', 'busRouteAbrv': 'M4130', 'length': '0', 'routeType': '8', 'stStationNm': '호수자이파밀리에.아이원', 'edStationNm': '서울역버스환승센터', 'term': '35', 'lastBusYn': ' ', 'lastBusTm': '20220803230000', 'firstBusTm': '20220803050000', 'lastLowTm': '              ', 'firstLowTm': '              ', 'corpNm': '경기'}]}}\n",
      "<class 'dict'>\n"
     ]
    }
   ],
   "source": [
    "import requests\n",
    "import pprint\n",
    "import json\n",
    "\n",
    "url = 'http://ws.bus.go.kr/api/rest/busRouteInfo/getBusRouteList'\n",
    "params ={'serviceKey' : 'aNck9jp/HY4SD0XYIww09B2N27wkcpKKSmxuMz9a11Y33XQ1fdi0IkNXZIr+CaU4x7ovJ8jxhH08xQB28h9Ajw==', 'strSrch' : '130', 'resultType':'json'}\n",
    "\n",
    "response = requests.get(url, params=params)\n",
    "contents = response.text\n",
    "print(contents)\n",
    "#pp = pprint.PrettyPrinter(indent=4)\n",
    "#print(pp.pprint(contents))\n",
    "\n",
    "#문자열을 json으로 변경\n",
    "json_ob = json.loads(contents)\n",
    "print(json_ob)\n",
    "print(type(json_ob)) #json타입 확인"
   ]
  },
  {
   "cell_type": "code",
   "execution_count": 126,
   "id": "7c959c72",
   "metadata": {},
   "outputs": [
    {
     "name": "stdout",
     "output_type": "stream",
     "text": [
      "[{'busRouteId': '100100018', 'busRouteNm': '130', 'busRouteAbrv': '130', 'length': '48.7', 'routeType': '3', 'stStationNm': '우이동', 'edStationNm': '길동', 'term': '7', 'lastBusYn': '0', 'lastBusTm': '20220803225000', 'firstBusTm': '20220803042000', 'lastLowTm': '20200629223800', 'firstLowTm': '20190118000000', 'corpNm': '삼양교통  02-993-0162'}, {'busRouteId': '100100146', 'busRouteNm': '1130', 'busRouteAbrv': '1130', 'length': '7.9', 'routeType': '4', 'stStationNm': '청백아파트1단지', 'edStationNm': '석계역', 'term': '9', 'lastBusYn': ' ', 'lastBusTm': '20220804001000', 'firstBusTm': '20220803050000', 'lastLowTm': '              ', 'firstLowTm': '              ', 'corpNm': '삼화상운  02-936-6000'}, {'busRouteId': '165000149', 'busRouteNm': '1300인천', 'busRouteAbrv': '1300', 'length': '0', 'routeType': '7', 'stStationNm': 'e편한세상 정문', 'edStationNm': '서울역', 'term': '60', 'lastBusYn': ' ', 'lastBusTm': '20220803234000', 'firstBusTm': '20220803050000', 'lastLowTm': '              ', 'firstLowTm': '              ', 'corpNm': '인천'}, {'busRouteId': '165000150', 'busRouteNm': '1301인천', 'busRouteAbrv': '1301', 'length': '0', 'routeType': '7', 'stStationNm': '송도공영차고지', 'edStationNm': '서울역', 'term': '60', 'lastBusYn': ' ', 'lastBusTm': '20220803230000', 'firstBusTm': '20220803050000', 'lastLowTm': '              ', 'firstLowTm': '              ', 'corpNm': '인천'}, {'busRouteId': '165000421', 'busRouteNm': '1302인천', 'busRouteAbrv': '1302', 'length': '0', 'routeType': '7', 'stStationNm': '극지연구소', 'edStationNm': '서울역', 'term': '60', 'lastBusYn': ' ', 'lastBusTm': '20220803230000', 'firstBusTm': '20220803050000', 'lastLowTm': '              ', 'firstLowTm': '              ', 'corpNm': '인천'}, {'busRouteId': '241006190', 'busRouteNm': '1309고양', 'busRouteAbrv': '1309', 'length': '0', 'routeType': '8', 'stStationNm': '동서울터미널', 'edStationNm': '천안종합터미널', 'term': '20', 'lastBusYn': ' ', 'lastBusTm': '20220803220000', 'firstBusTm': '20220803061500', 'lastLowTm': '              ', 'firstLowTm': '              ', 'corpNm': '경기'}, {'busRouteId': '235000092', 'busRouteNm': 'G1300양주', 'busRouteAbrv': 'G1300', 'length': '0', 'routeType': '8', 'stStationNm': '덕정차고지(경유)', 'edStationNm': '잠실광역환승센터', 'term': '25', 'lastBusYn': ' ', 'lastBusTm': '20220803223000', 'firstBusTm': '20220803050000', 'lastLowTm': '              ', 'firstLowTm': '              ', 'corpNm': '경기'}, {'busRouteId': '234001577', 'busRouteNm': 'M4130광주', 'busRouteAbrv': 'M4130', 'length': '0', 'routeType': '8', 'stStationNm': '호수자이파밀리에.아이원', 'edStationNm': '서울역버스환승센터', 'term': '35', 'lastBusYn': ' ', 'lastBusTm': '20220803230000', 'firstBusTm': '20220803050000', 'lastLowTm': '              ', 'firstLowTm': '              ', 'corpNm': '경기'}]\n"
     ]
    }
   ],
   "source": [
    "body = json_ob['msgBody']['itemList']\n",
    "print(body)"
   ]
  },
  {
   "cell_type": "code",
   "execution_count": 127,
   "id": "bcc6d0bd",
   "metadata": {},
   "outputs": [
    {
     "name": "stdout",
     "output_type": "stream",
     "text": [
      "  busRouteId busRouteNm busRouteAbrv length routeType   stStationNm  \\\n",
      "0  100100018        130          130   48.7         3           우이동   \n",
      "1  100100146       1130         1130    7.9         4      청백아파트1단지   \n",
      "2  165000149     1300인천         1300      0         7      e편한세상 정문   \n",
      "3  165000150     1301인천         1301      0         7       송도공영차고지   \n",
      "4  165000421     1302인천         1302      0         7         극지연구소   \n",
      "5  241006190     1309고양         1309      0         8        동서울터미널   \n",
      "6  235000092    G1300양주        G1300      0         8     덕정차고지(경유)   \n",
      "7  234001577    M4130광주        M4130      0         8  호수자이파밀리에.아이원   \n",
      "\n",
      "  edStationNm term lastBusYn       lastBusTm      firstBusTm       lastLowTm  \\\n",
      "0          길동    7         0  20220803225000  20220803042000  20200629223800   \n",
      "1         석계역    9            20220804001000  20220803050000                   \n",
      "2         서울역   60            20220803234000  20220803050000                   \n",
      "3         서울역   60            20220803230000  20220803050000                   \n",
      "4         서울역   60            20220803230000  20220803050000                   \n",
      "5     천안종합터미널   20            20220803220000  20220803061500                   \n",
      "6    잠실광역환승센터   25            20220803223000  20220803050000                   \n",
      "7   서울역버스환승센터   35            20220803230000  20220803050000                   \n",
      "\n",
      "       firstLowTm             corpNm  \n",
      "0  20190118000000  삼양교통  02-993-0162  \n",
      "1                  삼화상운  02-936-6000  \n",
      "2                                 인천  \n",
      "3                                 인천  \n",
      "4                                 인천  \n",
      "5                                 경기  \n",
      "6                                 경기  \n",
      "7                                 경기  \n"
     ]
    },
    {
     "name": "stderr",
     "output_type": "stream",
     "text": [
      "C:\\Users\\user\\AppData\\Local\\Temp\\ipykernel_11764\\3637955121.py:5: FutureWarning: pandas.io.json.json_normalize is deprecated, use pandas.json_normalize instead.\n",
      "  dataframe = json_normalize(body)\n"
     ]
    }
   ],
   "source": [
    "# pandas import\n",
    "import pandas as pd\n",
    "from pandas.io.json import json_normalize\n",
    "# Dataframe으로 만들기\n",
    "dataframe = json_normalize(body)\n",
    "\n",
    "print(dataframe)"
   ]
  },
  {
   "cell_type": "code",
   "execution_count": 131,
   "id": "e764f51d",
   "metadata": {},
   "outputs": [
    {
     "data": {
      "text/html": [
       "<div>\n",
       "<style scoped>\n",
       "    .dataframe tbody tr th:only-of-type {\n",
       "        vertical-align: middle;\n",
       "    }\n",
       "\n",
       "    .dataframe tbody tr th {\n",
       "        vertical-align: top;\n",
       "    }\n",
       "\n",
       "    .dataframe thead th {\n",
       "        text-align: right;\n",
       "    }\n",
       "</style>\n",
       "<table border=\"1\" class=\"dataframe\">\n",
       "  <thead>\n",
       "    <tr style=\"text-align: right;\">\n",
       "      <th></th>\n",
       "      <th>busRouteNm</th>\n",
       "      <th>term</th>\n",
       "    </tr>\n",
       "  </thead>\n",
       "  <tbody>\n",
       "    <tr>\n",
       "      <th>0</th>\n",
       "      <td>130</td>\n",
       "      <td>7</td>\n",
       "    </tr>\n",
       "    <tr>\n",
       "      <th>1</th>\n",
       "      <td>1130</td>\n",
       "      <td>9</td>\n",
       "    </tr>\n",
       "    <tr>\n",
       "      <th>2</th>\n",
       "      <td>1300인천</td>\n",
       "      <td>60</td>\n",
       "    </tr>\n",
       "    <tr>\n",
       "      <th>3</th>\n",
       "      <td>1301인천</td>\n",
       "      <td>60</td>\n",
       "    </tr>\n",
       "    <tr>\n",
       "      <th>4</th>\n",
       "      <td>1302인천</td>\n",
       "      <td>60</td>\n",
       "    </tr>\n",
       "    <tr>\n",
       "      <th>5</th>\n",
       "      <td>1309고양</td>\n",
       "      <td>20</td>\n",
       "    </tr>\n",
       "    <tr>\n",
       "      <th>6</th>\n",
       "      <td>G1300양주</td>\n",
       "      <td>25</td>\n",
       "    </tr>\n",
       "    <tr>\n",
       "      <th>7</th>\n",
       "      <td>M4130광주</td>\n",
       "      <td>35</td>\n",
       "    </tr>\n",
       "  </tbody>\n",
       "</table>\n",
       "</div>"
      ],
      "text/plain": [
       "  busRouteNm term\n",
       "0        130    7\n",
       "1       1130    9\n",
       "2     1300인천   60\n",
       "3     1301인천   60\n",
       "4     1302인천   60\n",
       "5     1309고양   20\n",
       "6    G1300양주   25\n",
       "7    M4130광주   35"
      ]
     },
     "execution_count": 131,
     "metadata": {},
     "output_type": "execute_result"
    }
   ],
   "source": [
    "dataframe[['busRouteNm','term']]"
   ]
  },
  {
   "cell_type": "code",
   "execution_count": 132,
   "id": "db20a01f",
   "metadata": {},
   "outputs": [
    {
     "data": {
      "text/plain": [
       "busRouteNm    130\n",
       "term            7\n",
       "Name: 0, dtype: object"
      ]
     },
     "execution_count": 132,
     "metadata": {},
     "output_type": "execute_result"
    }
   ],
   "source": [
    "df = dataframe[['busRouteNm','term']].loc[0]\n",
    "df"
   ]
  },
  {
   "cell_type": "code",
   "execution_count": 133,
   "id": "9c982460",
   "metadata": {},
   "outputs": [
    {
     "name": "stderr",
     "output_type": "stream",
     "text": [
      "C:\\Users\\user\\AppData\\Local\\Temp\\ipykernel_11764\\3278640683.py:3: FutureWarning: The frame.append method is deprecated and will be removed from pandas in a future version. Use pandas.concat instead.\n",
      "  df2.append(df)\n"
     ]
    },
    {
     "data": {
      "text/html": [
       "<div>\n",
       "<style scoped>\n",
       "    .dataframe tbody tr th:only-of-type {\n",
       "        vertical-align: middle;\n",
       "    }\n",
       "\n",
       "    .dataframe tbody tr th {\n",
       "        vertical-align: top;\n",
       "    }\n",
       "\n",
       "    .dataframe thead th {\n",
       "        text-align: right;\n",
       "    }\n",
       "</style>\n",
       "<table border=\"1\" class=\"dataframe\">\n",
       "  <thead>\n",
       "    <tr style=\"text-align: right;\">\n",
       "      <th></th>\n",
       "      <th>busRouteNm</th>\n",
       "      <th>term</th>\n",
       "    </tr>\n",
       "  </thead>\n",
       "  <tbody>\n",
       "    <tr>\n",
       "      <th>0</th>\n",
       "      <td>0</td>\n",
       "      <td>0</td>\n",
       "    </tr>\n",
       "    <tr>\n",
       "      <th>0</th>\n",
       "      <td>130</td>\n",
       "      <td>7</td>\n",
       "    </tr>\n",
       "  </tbody>\n",
       "</table>\n",
       "</div>"
      ],
      "text/plain": [
       "  busRouteNm term\n",
       "0          0    0\n",
       "0        130    7"
      ]
     },
     "execution_count": 133,
     "metadata": {},
     "output_type": "execute_result"
    }
   ],
   "source": [
    "df2 = pd.DataFrame({'busRouteNm':[0],\n",
    "                             'term':[0]})\n",
    "df2.append(df)"
   ]
  },
  {
   "cell_type": "code",
   "execution_count": 1,
   "id": "acfdafa4",
   "metadata": {},
   "outputs": [
    {
     "name": "stdout",
     "output_type": "stream",
     "text": [
      "{'serviceKey': 'aNck9jp/HY4SD0XYIww09B2N27wkcpKKSmxuMz9a11Y33XQ1fdi0IkNXZIr+CaU4x7ovJ8jxhH08xQB28h9Ajw==', 'resultType': 'json', 'strSrch': 130}\n",
      "{'serviceKey': 'aNck9jp/HY4SD0XYIww09B2N27wkcpKKSmxuMz9a11Y33XQ1fdi0IkNXZIr+CaU4x7ovJ8jxhH08xQB28h9Ajw==', 'resultType': 'json', 'strSrch': 303}\n",
      "{'serviceKey': 'aNck9jp/HY4SD0XYIww09B2N27wkcpKKSmxuMz9a11Y33XQ1fdi0IkNXZIr+CaU4x7ovJ8jxhH08xQB28h9Ajw==', 'resultType': 'json', 'strSrch': 'N30'}\n",
      "{'serviceKey': 'aNck9jp/HY4SD0XYIww09B2N27wkcpKKSmxuMz9a11Y33XQ1fdi0IkNXZIr+CaU4x7ovJ8jxhH08xQB28h9Ajw==', 'resultType': 'json', 'strSrch': 370}\n",
      "{'serviceKey': 'aNck9jp/HY4SD0XYIww09B2N27wkcpKKSmxuMz9a11Y33XQ1fdi0IkNXZIr+CaU4x7ovJ8jxhH08xQB28h9Ajw==', 'resultType': 'json', 'strSrch': 9403}\n",
      "{'serviceKey': 'aNck9jp/HY4SD0XYIww09B2N27wkcpKKSmxuMz9a11Y33XQ1fdi0IkNXZIr+CaU4x7ovJ8jxhH08xQB28h9Ajw==', 'resultType': 'json', 'strSrch': 721}\n"
     ]
    }
   ],
   "source": [
    "import requests\n",
    "import pprint\n",
    "import json\n",
    "import pandas as pd\n",
    "from pandas.io.json import json_normalize\n",
    "\n",
    "url = 'http://ws.bus.go.kr/api/rest/busRouteInfo/getBusRouteList'\n",
    "params ={'serviceKey' : 'aNck9jp/HY4SD0XYIww09B2N27wkcpKKSmxuMz9a11Y33XQ1fdi0IkNXZIr+CaU4x7ovJ8jxhH08xQB28h9Ajw==', 'resultType':'json'}\n",
    "\n",
    "bus_num=[130,303,'N30',370,9403,721]\n",
    "for bus in bus_num:\n",
    "    params['strSrch'] = bus\n",
    "    print(params)"
   ]
  },
  {
   "cell_type": "code",
   "execution_count": 101,
   "id": "9ce481cb",
   "metadata": {},
   "outputs": [
    {
     "name": "stdout",
     "output_type": "stream",
     "text": [
      "['4211', '성동03-1', '성동08', '성동02', '241', '성동10', '성동07', '성동14', '성동03-2', '성동01', '성동05', '성동06', '145110B', '148', '421', '141', '2015', '2222', '성동13', '성동12', '성동02', '성동09', '성동12', '성동03-2', '성동14', '1227', '130', '303', 'N30', '370', '9403', '721', '3216', '3220', '2221', '2416', '463', '2014', '2015', 'N62', '302', '6211', '202', '147', '1017', '2012', '2013', '421', '241', 'N32', '148', '110A', '145', '141', '2222', '121', '4211', '2016', '2233', '7212', '301', '2224', '2413', '2412', '242', '3217', '240', '4212', '146', 'N61', '2112']\n"
     ]
    }
   ],
   "source": [
    "bus_num='4211 성동03-1 성동08 성동02 241 성동10 성동07 성동14 성동03-2 성동01 성동05 성동06 145110B 148 421 141 2015 2222 성동13 성동12 성동02 성동09 성동12 성동03-2 성동14 1227 130 303 N30 370 9403 721 3216 3220 2221 2416 463 2014 2015 N62 302 6211 202 147 1017 2012 2013 421 241 N32 148 110A 145 141 2222 121 4211 2016 2233 7212 301 2224 2413 2412 242 3217 240 4212 146 N61 2112'\n",
    "bus_list = bus_num.split(' ')\n",
    "\n",
    "print(bus_list)"
   ]
  },
  {
   "cell_type": "code",
   "execution_count": 120,
   "id": "cd949e0a",
   "metadata": {},
   "outputs": [
    {
     "data": {
      "text/plain": [
       "71"
      ]
     },
     "execution_count": 120,
     "metadata": {},
     "output_type": "execute_result"
    }
   ],
   "source": [
    "len(bus_list)"
   ]
  },
  {
   "cell_type": "code",
   "execution_count": 131,
   "id": "bc8197b2",
   "metadata": {},
   "outputs": [],
   "source": [
    "set_bus_list = set(bus_list)"
   ]
  },
  {
   "cell_type": "code",
   "execution_count": 132,
   "id": "df0b061f",
   "metadata": {},
   "outputs": [
    {
     "data": {
      "text/plain": [
       "60"
      ]
     },
     "execution_count": 132,
     "metadata": {},
     "output_type": "execute_result"
    }
   ],
   "source": [
    "len(set_bus_list)"
   ]
  },
  {
   "cell_type": "code",
   "execution_count": 133,
   "id": "dc7442dc",
   "metadata": {},
   "outputs": [
    {
     "data": {
      "text/plain": [
       "{'1017',\n",
       " '110A',\n",
       " '121',\n",
       " '1227',\n",
       " '130',\n",
       " '141',\n",
       " '145',\n",
       " '145110B',\n",
       " '146',\n",
       " '147',\n",
       " '148',\n",
       " '2012',\n",
       " '2013',\n",
       " '2014',\n",
       " '2015',\n",
       " '2016',\n",
       " '202',\n",
       " '2112',\n",
       " '2221',\n",
       " '2222',\n",
       " '2224',\n",
       " '2233',\n",
       " '240',\n",
       " '241',\n",
       " '2412',\n",
       " '2413',\n",
       " '2416',\n",
       " '242',\n",
       " '301',\n",
       " '302',\n",
       " '303',\n",
       " '3216',\n",
       " '3217',\n",
       " '3220',\n",
       " '370',\n",
       " '421',\n",
       " '4211',\n",
       " '4212',\n",
       " '463',\n",
       " '6211',\n",
       " '721',\n",
       " '7212',\n",
       " '9403',\n",
       " 'N30',\n",
       " 'N32',\n",
       " 'N61',\n",
       " 'N62',\n",
       " '성동01',\n",
       " '성동02',\n",
       " '성동03-1',\n",
       " '성동03-2',\n",
       " '성동05',\n",
       " '성동06',\n",
       " '성동07',\n",
       " '성동08',\n",
       " '성동09',\n",
       " '성동10',\n",
       " '성동12',\n",
       " '성동13',\n",
       " '성동14'}"
      ]
     },
     "execution_count": 133,
     "metadata": {},
     "output_type": "execute_result"
    }
   ],
   "source": [
    "set_bus_list"
   ]
  },
  {
   "cell_type": "code",
   "execution_count": 136,
   "id": "1cd71e97",
   "metadata": {},
   "outputs": [],
   "source": [
    "import requests\n",
    "import pprint\n",
    "import json\n",
    "import pandas as pd\n",
    "from pandas.io.json import json_normalize\n",
    "\n",
    "list=[]\n",
    "url = 'http://ws.bus.go.kr/api/rest/busRouteInfo/getBusRouteList'\n",
    "params ={'serviceKey' : 'aNck9jp/HY4SD0XYIww09B2N27wkcpKKSmxuMz9a11Y33XQ1fdi0IkNXZIr+CaU4x7ovJ8jxhH08xQB28h9Ajw==', 'resultType':'json'}\n",
    "\n",
    "bus_num=[4211,'성동03-1','성동08','성동02',241,'성동10','성동07','성동14','성동03-2','성동01','성동05','성동06',145\n",
    "         ,'110B',148,421,141,2015,2222,'성동13','성동12','성동02','성동09','성동12','성동03-2','성동14',1227,130,303,'N30',370\n",
    "         ,9403,721,3216,3220,2221,2416,463,2014,2015,'N62',302,6211,202,147,1017,2012,2013,421,241,'N32',148,'110A',145,141,2222,121\n",
    "         ,4211,2016,2233,7212,301,2224,2413,2412,242,3217,240,4212,146,'N61',2112]\n",
    "for bus in bus_num:\n",
    "    params['strSrch'] = bus\n",
    "    \n",
    "    response = requests.get(url, params=params)\n",
    "    contents = response.text\n",
    "\n",
    "    #문자열을 json으로 변경\n",
    "    json_ob = json.loads(contents)\n",
    "    body = json_ob['msgBody']['itemList'][0]['term']\n",
    "    list.append(body)"
   ]
  },
  {
   "cell_type": "code",
   "execution_count": 137,
   "id": "c46681ed",
   "metadata": {},
   "outputs": [
    {
     "data": {
      "text/plain": [
       "['13',\n",
       " '10',\n",
       " '10',\n",
       " '9',\n",
       " '10',\n",
       " '8',\n",
       " '23',\n",
       " '12',\n",
       " '14',\n",
       " '7',\n",
       " '7',\n",
       " '20',\n",
       " '9',\n",
       " '8',\n",
       " '9',\n",
       " '10',\n",
       " '11',\n",
       " '8',\n",
       " '13',\n",
       " '22',\n",
       " '12',\n",
       " '9',\n",
       " '8',\n",
       " '12',\n",
       " '14',\n",
       " '12',\n",
       " '14',\n",
       " '7',\n",
       " '8',\n",
       " '40',\n",
       " '6',\n",
       " '13',\n",
       " '8',\n",
       " '13',\n",
       " '17',\n",
       " '13',\n",
       " '15',\n",
       " '10',\n",
       " '10',\n",
       " '8',\n",
       " '24',\n",
       " '15',\n",
       " '11',\n",
       " '8',\n",
       " '9',\n",
       " '14',\n",
       " '12',\n",
       " '13',\n",
       " '10',\n",
       " '10',\n",
       " '40',\n",
       " '9',\n",
       " '8',\n",
       " '9',\n",
       " '11',\n",
       " '13',\n",
       " '7',\n",
       " '13',\n",
       " '11',\n",
       " '15',\n",
       " '11',\n",
       " '8',\n",
       " '13',\n",
       " '13',\n",
       " '13',\n",
       " '14',\n",
       " '9',\n",
       " '11',\n",
       " '9',\n",
       " '8',\n",
       " '25',\n",
       " '14']"
      ]
     },
     "execution_count": 137,
     "metadata": {},
     "output_type": "execute_result"
    }
   ],
   "source": [
    "list"
   ]
  },
  {
   "cell_type": "code",
   "execution_count": 125,
   "id": "dac87325",
   "metadata": {},
   "outputs": [
    {
     "name": "stdout",
     "output_type": "stream",
     "text": [
      "['4211', '성동03-1', '성동08', '성동02', '241', '성동10', '성동07', '성동14', '성동03-2', '성동01', '성동05', '성동06', '145110B', '148', '421', '141', '2015', '2222', '성동13', '성동12', '성동02', '성동09', '성동12', '성동03-2', '성동14', '1227', '130', '303', 'N30', '370', '9403', '721', '3216', '3220', '2221', '2416', '463', '2014', '2015', 'N62', '302', '6211', '202', '147', '1017', '2012', '2013', '421', '241', 'N32', '148', '110A', '145', '141', '2222', '121', '4211', '2016', '2233', '7212', '301', '2224', '2413', '2412', '242', '3217', '240', '4212', '146', 'N61', '2112']\n"
     ]
    }
   ],
   "source": [
    "bus_num='4211 성동03-1 성동08 성동02 241 성동10 성동07 성동14 성동03-2 성동01 성동05 성동06 145110B 148 421 141 2015 2222 성동13 성동12 성동02 성동09 성동12 성동03-2 성동14 1227 130 303 N30 370 9403 721 3216 3220 2221 2416 463 2014 2015 N62 302 6211 202 147 1017 2012 2013 421 241 N32 148 110A 145 141 2222 121 4211 2016 2233 7212 301 2224 2413 2412 242 3217 240 4212 146 N61 2112'\n",
    "bus_list = bus_num.split(' ')\n",
    "\n",
    "print(bus_list)"
   ]
  },
  {
   "cell_type": "code",
   "execution_count": 126,
   "id": "35a4a42f",
   "metadata": {},
   "outputs": [
    {
     "data": {
      "text/plain": [
       "71"
      ]
     },
     "execution_count": 126,
     "metadata": {},
     "output_type": "execute_result"
    }
   ],
   "source": [
    "len(bus_list)"
   ]
  },
  {
   "cell_type": "code",
   "execution_count": 127,
   "id": "dea7f0c6",
   "metadata": {},
   "outputs": [],
   "source": [
    "set_bus_list = set(bus_list)"
   ]
  },
  {
   "cell_type": "code",
   "execution_count": 128,
   "id": "ccd5a9a3",
   "metadata": {},
   "outputs": [
    {
     "data": {
      "text/plain": [
       "60"
      ]
     },
     "execution_count": 128,
     "metadata": {},
     "output_type": "execute_result"
    }
   ],
   "source": [
    "len(set_bus_list)"
   ]
  },
  {
   "cell_type": "code",
   "execution_count": 139,
   "id": "aa4ff821",
   "metadata": {},
   "outputs": [],
   "source": [
    "a = bus_num\n",
    "b = list\n",
    "df = pd.DataFrame()\n",
    "df['busNm'] = a\n",
    "df['term'] = b "
   ]
  },
  {
   "cell_type": "code",
   "execution_count": 141,
   "id": "a0f3bd2f",
   "metadata": {},
   "outputs": [
    {
     "data": {
      "text/plain": [
       "dtype('O')"
      ]
     },
     "execution_count": 141,
     "metadata": {},
     "output_type": "execute_result"
    }
   ],
   "source": [
    "df['term'].dtype"
   ]
  },
  {
   "cell_type": "code",
   "execution_count": 142,
   "id": "47fe475f",
   "metadata": {},
   "outputs": [],
   "source": [
    "df[\"term\"] = pd.to_numeric(df[\"term\"])"
   ]
  },
  {
   "cell_type": "code",
   "execution_count": 143,
   "id": "a682ee9b",
   "metadata": {},
   "outputs": [
    {
     "data": {
      "text/plain": [
       "dtype('int64')"
      ]
     },
     "execution_count": 143,
     "metadata": {},
     "output_type": "execute_result"
    }
   ],
   "source": [
    "df['term'].dtype"
   ]
  },
  {
   "cell_type": "code",
   "execution_count": 147,
   "id": "d5864603",
   "metadata": {
    "scrolled": false
   },
   "outputs": [],
   "source": [
    "df.drop_duplicates(['busNm'], keep = 'first')\n",
    "df_sorted = df.sort_values('term')"
   ]
  },
  {
   "cell_type": "code",
   "execution_count": 148,
   "id": "4b1657e0",
   "metadata": {},
   "outputs": [
    {
     "data": {
      "text/html": [
       "<div>\n",
       "<style scoped>\n",
       "    .dataframe tbody tr th:only-of-type {\n",
       "        vertical-align: middle;\n",
       "    }\n",
       "\n",
       "    .dataframe tbody tr th {\n",
       "        vertical-align: top;\n",
       "    }\n",
       "\n",
       "    .dataframe thead th {\n",
       "        text-align: right;\n",
       "    }\n",
       "</style>\n",
       "<table border=\"1\" class=\"dataframe\">\n",
       "  <thead>\n",
       "    <tr style=\"text-align: right;\">\n",
       "      <th></th>\n",
       "      <th>busNm</th>\n",
       "      <th>term</th>\n",
       "    </tr>\n",
       "  </thead>\n",
       "  <tbody>\n",
       "    <tr>\n",
       "      <th>30</th>\n",
       "      <td>370</td>\n",
       "      <td>6</td>\n",
       "    </tr>\n",
       "    <tr>\n",
       "      <th>9</th>\n",
       "      <td>성동01</td>\n",
       "      <td>7</td>\n",
       "    </tr>\n",
       "    <tr>\n",
       "      <th>27</th>\n",
       "      <td>130</td>\n",
       "      <td>7</td>\n",
       "    </tr>\n",
       "    <tr>\n",
       "      <th>56</th>\n",
       "      <td>121</td>\n",
       "      <td>7</td>\n",
       "    </tr>\n",
       "    <tr>\n",
       "      <th>10</th>\n",
       "      <td>성동05</td>\n",
       "      <td>7</td>\n",
       "    </tr>\n",
       "    <tr>\n",
       "      <th>...</th>\n",
       "      <td>...</td>\n",
       "      <td>...</td>\n",
       "    </tr>\n",
       "    <tr>\n",
       "      <th>6</th>\n",
       "      <td>성동07</td>\n",
       "      <td>23</td>\n",
       "    </tr>\n",
       "    <tr>\n",
       "      <th>40</th>\n",
       "      <td>N62</td>\n",
       "      <td>24</td>\n",
       "    </tr>\n",
       "    <tr>\n",
       "      <th>70</th>\n",
       "      <td>N61</td>\n",
       "      <td>25</td>\n",
       "    </tr>\n",
       "    <tr>\n",
       "      <th>50</th>\n",
       "      <td>N32</td>\n",
       "      <td>40</td>\n",
       "    </tr>\n",
       "    <tr>\n",
       "      <th>29</th>\n",
       "      <td>N30</td>\n",
       "      <td>40</td>\n",
       "    </tr>\n",
       "  </tbody>\n",
       "</table>\n",
       "<p>72 rows × 2 columns</p>\n",
       "</div>"
      ],
      "text/plain": [
       "   busNm  term\n",
       "30   370     6\n",
       "9   성동01     7\n",
       "27   130     7\n",
       "56   121     7\n",
       "10  성동05     7\n",
       "..   ...   ...\n",
       "6   성동07    23\n",
       "40   N62    24\n",
       "70   N61    25\n",
       "50   N32    40\n",
       "29   N30    40\n",
       "\n",
       "[72 rows x 2 columns]"
      ]
     },
     "execution_count": 148,
     "metadata": {},
     "output_type": "execute_result"
    }
   ],
   "source": [
    "df_sorted"
   ]
  },
  {
   "cell_type": "code",
   "execution_count": 156,
   "id": "f15a0aff",
   "metadata": {},
   "outputs": [],
   "source": [
    "df.to_csv('term.csv', encoding = 'cp949', index=None)"
   ]
  },
  {
   "cell_type": "code",
   "execution_count": 113,
   "id": "9b72b6e0",
   "metadata": {},
   "outputs": [
    {
     "name": "stdout",
     "output_type": "stream",
     "text": [
      "['4211', '성동03-1', '성동08', '성동02', '241', '성동10', '성동07', '성동14', '성동03-2', '성동01', '성동05', '성동06', '145110B', '148', '421', '141', '2015', '2222', '성동13', '성동12', '성동02', '성동09', '성동12', '성동03-2', '성동14', '1227', '130', '303', 'N30', '370', '9403', '721', '3216', '3220', '2221', '2416', '463', '2014', '2015', 'N62', '302', '6211', '202', '147', '1017', '2012', '2013', '421', '241', 'N32', '148', '110A', '145', '141', '2222', '121', '4211', '2016', '2233', '7212', '301', '2224', '2413', '2412', '242', '3217', '240', '4212', '146', 'N61', '2112']\n"
     ]
    }
   ],
   "source": [
    "bus_num='4211 성동03-1 성동08 성동02 241 성동10 성동07 성동14 성동03-2 성동01 성동05 성동06 145110B 148 421 141 2015 2222 성동13 성동12 성동02 성동09 성동12 성동03-2 성동14 1227 130 303 N30 370 9403 721 3216 3220 2221 2416 463 2014 2015 N62 302 6211 202 147 1017 2012 2013 421 241 N32 148 110A 145 141 2222 121 4211 2016 2233 7212 301 2224 2413 2412 242 3217 240 4212 146 N61 2112'\n",
    "bus_list = bus_num.split(' ')\n",
    "\n",
    "print(bus_list)"
   ]
  },
  {
   "cell_type": "code",
   "execution_count": 99,
   "id": "cee719be",
   "metadata": {},
   "outputs": [],
   "source": [
    "bus_ = '121 130 141 145 146 147 148 202 240 241 242 301 302 303 370 421 463 721 N30 N32 N61 N62 1017 110A 110B 1227 2012 2013 2014 2015 2016 2112 2221 2222 2224 2233 2412 2413 2416 3216 3217 3220 4211 4212 6211 7212 9403 성동01 성동02 성동05 성동06 성동07 성동08 성동09 성동10 성동12 성동13 성동14 성동03-1 성동03-2'"
   ]
  },
  {
   "cell_type": "code",
   "execution_count": 68,
   "id": "78dfcaa8",
   "metadata": {},
   "outputs": [],
   "source": [
    "#result = bus_.replace(\" \" , \",\")"
   ]
  },
  {
   "cell_type": "code",
   "execution_count": 100,
   "id": "f66ea8b1",
   "metadata": {},
   "outputs": [
    {
     "name": "stdout",
     "output_type": "stream",
     "text": [
      "['121', '130', '141', '145', '146', '147', '148', '202', '240', '241', '242', '301', '302', '303', '370', '421', '463', '721', 'N30', 'N32', 'N61', 'N62', '1017', '110A', '110B', '1227', '2012', '2013', '2014', '2015', '2016', '2112', '2221', '2222', '2224', '2233', '2412', '2413', '2416', '3216', '3217', '3220', '4211', '4212', '6211', '7212', '9403', '성동01', '성동02', '성동05', '성동06', '성동07', '성동08', '성동09', '성동10', '성동12', '성동13', '성동14', '성동03-1', '성동03-2']\n"
     ]
    }
   ],
   "source": [
    "my_list = bus_.split(' ')\n",
    "\n",
    "print(my_list)"
   ]
  },
  {
   "cell_type": "code",
   "execution_count": 78,
   "id": "cdb87a23",
   "metadata": {},
   "outputs": [
    {
     "data": {
      "text/plain": [
       "{'1017',\n",
       " '110A',\n",
       " '110B',\n",
       " '121',\n",
       " '1227',\n",
       " '130',\n",
       " '141',\n",
       " '145',\n",
       " '146',\n",
       " '147',\n",
       " '148',\n",
       " '2012',\n",
       " '2013',\n",
       " '2014',\n",
       " '2015',\n",
       " '2016',\n",
       " '202',\n",
       " '2112',\n",
       " '2221',\n",
       " '2222',\n",
       " '2224',\n",
       " '2233',\n",
       " '240',\n",
       " '241',\n",
       " '2412',\n",
       " '2413',\n",
       " '2416',\n",
       " '242',\n",
       " '301',\n",
       " '302',\n",
       " '303',\n",
       " '3216',\n",
       " '3217',\n",
       " '3220',\n",
       " '370',\n",
       " '421',\n",
       " '4211',\n",
       " '4212',\n",
       " '463',\n",
       " '6211',\n",
       " '721',\n",
       " '7212',\n",
       " '9403',\n",
       " 'N30',\n",
       " 'N32',\n",
       " 'N61',\n",
       " 'N62',\n",
       " '성동01',\n",
       " '성동02',\n",
       " '성동03-1',\n",
       " '성동03-2',\n",
       " '성동05',\n",
       " '성동06',\n",
       " '성동07',\n",
       " '성동08',\n",
       " '성동09',\n",
       " '성동10',\n",
       " '성동12',\n",
       " '성동13',\n",
       " '성동14'}"
      ]
     },
     "execution_count": 78,
     "metadata": {},
     "output_type": "execute_result"
    }
   ],
   "source": [
    "set1 = set(my_list)\n",
    "set1"
   ]
  },
  {
   "cell_type": "code",
   "execution_count": 118,
   "id": "7c57f5f1",
   "metadata": {},
   "outputs": [
    {
     "data": {
      "text/plain": [
       "60"
      ]
     },
     "execution_count": 118,
     "metadata": {},
     "output_type": "execute_result"
    }
   ],
   "source": [
    "len(set1)"
   ]
  },
  {
   "cell_type": "code",
   "execution_count": 114,
   "id": "b684c624",
   "metadata": {},
   "outputs": [
    {
     "data": {
      "text/plain": [
       "{'1017',\n",
       " '110A',\n",
       " '121',\n",
       " '1227',\n",
       " '130',\n",
       " '141',\n",
       " '145',\n",
       " '145110B',\n",
       " '146',\n",
       " '147',\n",
       " '148',\n",
       " '2012',\n",
       " '2013',\n",
       " '2014',\n",
       " '2015',\n",
       " '2016',\n",
       " '202',\n",
       " '2112',\n",
       " '2221',\n",
       " '2222',\n",
       " '2224',\n",
       " '2233',\n",
       " '240',\n",
       " '241',\n",
       " '2412',\n",
       " '2413',\n",
       " '2416',\n",
       " '242',\n",
       " '301',\n",
       " '302',\n",
       " '303',\n",
       " '3216',\n",
       " '3217',\n",
       " '3220',\n",
       " '370',\n",
       " '421',\n",
       " '4211',\n",
       " '4212',\n",
       " '463',\n",
       " '6211',\n",
       " '721',\n",
       " '7212',\n",
       " '9403',\n",
       " 'N30',\n",
       " 'N32',\n",
       " 'N61',\n",
       " 'N62',\n",
       " '성동01',\n",
       " '성동02',\n",
       " '성동03-1',\n",
       " '성동03-2',\n",
       " '성동05',\n",
       " '성동06',\n",
       " '성동07',\n",
       " '성동08',\n",
       " '성동09',\n",
       " '성동10',\n",
       " '성동12',\n",
       " '성동13',\n",
       " '성동14'}"
      ]
     },
     "execution_count": 114,
     "metadata": {},
     "output_type": "execute_result"
    }
   ],
   "source": [
    "set2 = set(bus_list)\n",
    "set2"
   ]
  },
  {
   "cell_type": "code",
   "execution_count": 119,
   "id": "3472fd73",
   "metadata": {},
   "outputs": [
    {
     "data": {
      "text/plain": [
       "60"
      ]
     },
     "execution_count": 119,
     "metadata": {},
     "output_type": "execute_result"
    }
   ],
   "source": [
    "len(set2)"
   ]
  },
  {
   "cell_type": "code",
   "execution_count": 117,
   "id": "4c3897f5",
   "metadata": {},
   "outputs": [
    {
     "name": "stdout",
     "output_type": "stream",
     "text": [
      "{'145110B'}\n"
     ]
    }
   ],
   "source": [
    "print(set2.difference(set1))"
   ]
  }
 ],
 "metadata": {
  "kernelspec": {
   "display_name": "Python 3 (ipykernel)",
   "language": "python",
   "name": "python3"
  },
  "language_info": {
   "codemirror_mode": {
    "name": "ipython",
    "version": 3
   },
   "file_extension": ".py",
   "mimetype": "text/x-python",
   "name": "python",
   "nbconvert_exporter": "python",
   "pygments_lexer": "ipython3",
   "version": "3.9.12"
  }
 },
 "nbformat": 4,
 "nbformat_minor": 5
}
