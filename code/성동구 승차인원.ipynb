{
 "cells": [
  {
   "cell_type": "code",
   "execution_count": 1,
   "metadata": {},
   "outputs": [
    {
     "name": "stderr",
     "output_type": "stream",
     "text": [
      "C:\\Users\\user\\AppData\\Local\\Temp\\ipykernel_13464\\1548314478.py:2: DtypeWarning: Columns (4) have mixed types. Specify dtype option on import or set low_memory=False.\n",
      "  df = pd.read_csv(\"../data/2022년_버스노선별_정류장별_시간대별_승하차_인원_정보(06월).csv\", encoding='cp949')\n"
     ]
    }
   ],
   "source": [
    "import pandas as pd\n",
    "df = pd.read_csv(\"../data/2022년_버스노선별_정류장별_시간대별_승하차_인원_정보(06월).csv\", encoding='cp949')\n",
    "df1 = pd.read_csv(\"../data/전처리데이터/성동구 버스 결합.csv\", encoding='cp949')"
   ]
  },
  {
   "cell_type": "code",
   "execution_count": 2,
   "metadata": {},
   "outputs": [
    {
     "data": {
      "text/plain": [
       "<bound method NDFrame.head of      ?\"사용년월\"  노선번호                         노선명  표준버스정류장ID ARS-ID        역명  \\\n",
       "0     202206   130                130번(우이동~길동)  103000001   4001   답십리역사거리   \n",
       "1     202206   303                303번(성남~신설동)  103000001   4001   답십리역사거리   \n",
       "2     202206   N30        N30(강동공영차고지~서울역환승센터)  103000001   4001   답십리역사거리   \n",
       "3     202206   370          370번(강동공영차고지~충정로역)  103000001   4001   답십리역사거리   \n",
       "4     202206  9403           9403번(성남분당~을지로5가)  103000001   4001   답십리역사거리   \n",
       "..       ...   ...                         ...        ...    ...       ...   \n",
       "989   202206  성동10  성동10(경동초등학교~송정동서울숲아이파크아파트)  103900296   4526   성수이비즈센터   \n",
       "990   202206  성동10  성동10(경동초등학교~송정동서울숲아이파크아파트)  103900297   4533   경수중학교입구   \n",
       "991   202206  성동10  성동10(경동초등학교~송정동서울숲아이파크아파트)  103900298   4540   성수역2번출구   \n",
       "992   202206  성동10  성동10(경동초등학교~송정동서울숲아이파크아파트)  103900299   4547  경동초등학교입구   \n",
       "993   202206  성동10  성동10(경동초등학교~송정동서울숲아이파크아파트)  103900299   4547  경동초등학교입구   \n",
       "\n",
       "     00시승차총승객수  00시하차총승객수  1시승차총승객수  1시하차총승객수  ...  23시승차총승객수  23시하차총승객수  \\\n",
       "0            0          0         0         0  ...        239        260   \n",
       "1           60         21         0         0  ...        302        125   \n",
       "2           15         58        24        62  ...          0          0   \n",
       "3          336        581       124       155  ...        297        533   \n",
       "4           54         41       102        66  ...         40          8   \n",
       "..         ...        ...       ...       ...  ...        ...        ...   \n",
       "989          0          0         0         0  ...         13          1   \n",
       "990          0          0         0         0  ...          4         23   \n",
       "991          0          0         0         0  ...          9         63   \n",
       "992          0          0         0         0  ...         81          9   \n",
       "993          0          0         0         0  ...          2          4   \n",
       "\n",
       "         등록일자  Unnamed: 0    NODE_ID      정류소명         위도          경도  \\\n",
       "0    20220703           0  103000001   답십리역사거리  37.565426  127.054368   \n",
       "1    20220703           0  103000001   답십리역사거리  37.565426  127.054368   \n",
       "2    20220703           0  103000001   답십리역사거리  37.565426  127.054368   \n",
       "3    20220703           0  103000001   답십리역사거리  37.565426  127.054368   \n",
       "4    20220703           0  103000001   답십리역사거리  37.565426  127.054368   \n",
       "..        ...         ...        ...       ...        ...         ...   \n",
       "989  20220703         204  103900296   성수이비즈센터  37.546488  127.063232   \n",
       "990  20220703         210  103900297   경수중학교입구  37.543541  127.060377   \n",
       "991  20220703         215  103900298   성수역2번출구  37.544337  127.057310   \n",
       "992  20220703         221  103900299  경동초등학교입구  37.545992  127.050882   \n",
       "993  20220703         221  103900299  경동초등학교입구  37.545992  127.050882   \n",
       "\n",
       "                                       버스 노선 리스트  버스 수  \n",
       "0    ['9403', '370', '303', 'N30', '721', '130']     6  \n",
       "1    ['9403', '370', '303', 'N30', '721', '130']     6  \n",
       "2    ['9403', '370', '303', 'N30', '721', '130']     6  \n",
       "3    ['9403', '370', '303', 'N30', '721', '130']     6  \n",
       "4    ['9403', '370', '303', 'N30', '721', '130']     6  \n",
       "..                                           ...   ...  \n",
       "989                                     ['성동10']     1  \n",
       "990                                     ['성동10']     1  \n",
       "991                                     ['성동10']     1  \n",
       "992                                     ['성동10']     1  \n",
       "993                                     ['성동10']     1  \n",
       "\n",
       "[994 rows x 62 columns]>"
      ]
     },
     "execution_count": 2,
     "metadata": {},
     "output_type": "execute_result"
    }
   ],
   "source": [
    "df = df.rename(columns={'버스정류장ARS번호':'ARS-ID'}) # df column명 일치시키기\n",
    "df2 = pd.merge(df,df1) #성동구에 해당하는 ARS-ID만 결합\n",
    "df2.head"
   ]
  },
  {
   "cell_type": "code",
   "execution_count": 3,
   "metadata": {},
   "outputs": [],
   "source": [
    "df2.to_csv(\"../data/전처리데이터/성동구 승차인원(성동구만 merge).csv\", encoding='cp949', index=False)"
   ]
  },
  {
   "cell_type": "code",
   "execution_count": 4,
   "metadata": {},
   "outputs": [],
   "source": [
    "df = pd.read_csv(\"../data/전처리데이터/성동구 승차인원(성동구만 merge).csv\", encoding='cp949')"
   ]
  },
  {
   "cell_type": "code",
   "execution_count": 5,
   "metadata": {},
   "outputs": [
    {
     "data": {
      "text/plain": [
       "(994, 62)"
      ]
     },
     "execution_count": 5,
     "metadata": {},
     "output_type": "execute_result"
    }
   ],
   "source": [
    "df.shape"
   ]
  },
  {
   "cell_type": "code",
   "execution_count": 6,
   "metadata": {},
   "outputs": [
    {
     "name": "stderr",
     "output_type": "stream",
     "text": [
      "C:\\Users\\user\\AppData\\Local\\Temp\\ipykernel_13464\\1354688883.py:5: SettingWithCopyWarning: \n",
      "A value is trying to be set on a copy of a slice from a DataFrame\n",
      "\n",
      "See the caveats in the documentation: https://pandas.pydata.org/pandas-docs/stable/user_guide/indexing.html#returning-a-view-versus-a-copy\n",
      "  df['버스 총 승차수'][i] += df.iloc[i,j]\n"
     ]
    },
    {
     "data": {
      "text/plain": [
       "0       9910\n",
       "1      10233\n",
       "2        427\n",
       "3       9024\n",
       "4        990\n",
       "       ...  \n",
       "989     2171\n",
       "990      172\n",
       "991      648\n",
       "992     3058\n",
       "993       86\n",
       "Name: 버스 총 승차수, Length: 994, dtype: int64"
      ]
     },
     "execution_count": 6,
     "metadata": {},
     "output_type": "execute_result"
    }
   ],
   "source": [
    "# 버스 승차인원 0~23시 합치기\n",
    "df['버스 총 승차수'] = 0 \n",
    "for i in df.index:\n",
    "    for j in range(6,53,2):\n",
    "        df['버스 총 승차수'][i] += df.iloc[i,j]\n",
    "df['버스 총 승차수']"
   ]
  },
  {
   "cell_type": "code",
   "execution_count": 7,
   "metadata": {},
   "outputs": [
    {
     "data": {
      "text/html": [
       "<div>\n",
       "<style scoped>\n",
       "    .dataframe tbody tr th:only-of-type {\n",
       "        vertical-align: middle;\n",
       "    }\n",
       "\n",
       "    .dataframe tbody tr th {\n",
       "        vertical-align: top;\n",
       "    }\n",
       "\n",
       "    .dataframe thead th {\n",
       "        text-align: right;\n",
       "    }\n",
       "</style>\n",
       "<table border=\"1\" class=\"dataframe\">\n",
       "  <thead>\n",
       "    <tr style=\"text-align: right;\">\n",
       "      <th></th>\n",
       "      <th>노선명</th>\n",
       "      <th>ARS-ID</th>\n",
       "      <th>역명</th>\n",
       "      <th>버스 총 승차수</th>\n",
       "      <th>버스 수</th>\n",
       "    </tr>\n",
       "  </thead>\n",
       "  <tbody>\n",
       "    <tr>\n",
       "      <th>0</th>\n",
       "      <td>130번(우이동~길동)</td>\n",
       "      <td>4001</td>\n",
       "      <td>답십리역사거리</td>\n",
       "      <td>9910</td>\n",
       "      <td>6</td>\n",
       "    </tr>\n",
       "    <tr>\n",
       "      <th>1</th>\n",
       "      <td>303번(성남~신설동)</td>\n",
       "      <td>4001</td>\n",
       "      <td>답십리역사거리</td>\n",
       "      <td>10233</td>\n",
       "      <td>6</td>\n",
       "    </tr>\n",
       "    <tr>\n",
       "      <th>2</th>\n",
       "      <td>N30(강동공영차고지~서울역환승센터)</td>\n",
       "      <td>4001</td>\n",
       "      <td>답십리역사거리</td>\n",
       "      <td>427</td>\n",
       "      <td>6</td>\n",
       "    </tr>\n",
       "    <tr>\n",
       "      <th>3</th>\n",
       "      <td>370번(강동공영차고지~충정로역)</td>\n",
       "      <td>4001</td>\n",
       "      <td>답십리역사거리</td>\n",
       "      <td>9024</td>\n",
       "      <td>6</td>\n",
       "    </tr>\n",
       "    <tr>\n",
       "      <th>4</th>\n",
       "      <td>9403번(성남분당~을지로5가)</td>\n",
       "      <td>4001</td>\n",
       "      <td>답십리역사거리</td>\n",
       "      <td>990</td>\n",
       "      <td>6</td>\n",
       "    </tr>\n",
       "  </tbody>\n",
       "</table>\n",
       "</div>"
      ],
      "text/plain": [
       "                    노선명  ARS-ID       역명  버스 총 승차수  버스 수\n",
       "0          130번(우이동~길동)    4001  답십리역사거리      9910     6\n",
       "1          303번(성남~신설동)    4001  답십리역사거리     10233     6\n",
       "2  N30(강동공영차고지~서울역환승센터)    4001  답십리역사거리       427     6\n",
       "3    370번(강동공영차고지~충정로역)    4001  답십리역사거리      9024     6\n",
       "4     9403번(성남분당~을지로5가)    4001  답십리역사거리       990     6"
      ]
     },
     "execution_count": 7,
     "metadata": {},
     "output_type": "execute_result"
    }
   ],
   "source": [
    "df= df[['노선명','ARS-ID','역명','버스 총 승차수', '버스 수']] # 보기 좋게 필요한 열만 추출\n",
    "df.head()"
   ]
  },
  {
   "cell_type": "code",
   "execution_count": 8,
   "metadata": {},
   "outputs": [
    {
     "data": {
      "text/plain": [
       "ARS-ID\n",
       "4001    39270\n",
       "4002    37286\n",
       "4003    61371\n",
       "4101    17969\n",
       "4102    35007\n",
       "        ...  \n",
       "4911      454\n",
       "4912      754\n",
       "4913      264\n",
       "4914     2972\n",
       "6507     7468\n",
       "Name: 버스 총 승차수, Length: 432, dtype: int64"
      ]
     },
     "execution_count": 8,
     "metadata": {},
     "output_type": "execute_result"
    }
   ],
   "source": [
    "df1 = df.groupby(['ARS-ID']).sum()['버스 총 승차수']\n",
    "df1"
   ]
  },
  {
   "cell_type": "code",
   "execution_count": 9,
   "metadata": {},
   "outputs": [],
   "source": [
    "df1.to_csv(\"../data/전처리데이터/성동구 승차인원_only.csv\", encoding='cp949')"
   ]
  },
  {
   "cell_type": "code",
   "execution_count": 10,
   "metadata": {},
   "outputs": [
    {
     "data": {
      "text/html": [
       "<div>\n",
       "<style scoped>\n",
       "    .dataframe tbody tr th:only-of-type {\n",
       "        vertical-align: middle;\n",
       "    }\n",
       "\n",
       "    .dataframe tbody tr th {\n",
       "        vertical-align: top;\n",
       "    }\n",
       "\n",
       "    .dataframe thead th {\n",
       "        text-align: right;\n",
       "    }\n",
       "</style>\n",
       "<table border=\"1\" class=\"dataframe\">\n",
       "  <thead>\n",
       "    <tr style=\"text-align: right;\">\n",
       "      <th></th>\n",
       "      <th>설치일</th>\n",
       "      <th>행정동</th>\n",
       "      <th>버스정류소명</th>\n",
       "      <th>아이디</th>\n",
       "      <th>크기</th>\n",
       "    </tr>\n",
       "  </thead>\n",
       "  <tbody>\n",
       "    <tr>\n",
       "      <th>0</th>\n",
       "      <td>2020-07-31</td>\n",
       "      <td>행당1동</td>\n",
       "      <td>성동구청(도선사거리)</td>\n",
       "      <td>4111</td>\n",
       "      <td>중형</td>\n",
       "    </tr>\n",
       "    <tr>\n",
       "      <th>1</th>\n",
       "      <td>2020-07-31</td>\n",
       "      <td>행당2동</td>\n",
       "      <td>응봉사거리(무학여고앞)</td>\n",
       "      <td>4140</td>\n",
       "      <td>중형</td>\n",
       "    </tr>\n",
       "    <tr>\n",
       "      <th>2</th>\n",
       "      <td>2020-07-31</td>\n",
       "      <td>성수2가1동</td>\n",
       "      <td>성원중성수동이마트앞(성수공고앞)</td>\n",
       "      <td>4198</td>\n",
       "      <td>중형</td>\n",
       "    </tr>\n",
       "    <tr>\n",
       "      <th>3</th>\n",
       "      <td>2020-07-31</td>\n",
       "      <td>왕십리도선동</td>\n",
       "      <td>상왕십리역(왕십리센트라스아파트)</td>\n",
       "      <td>4102</td>\n",
       "      <td>중형</td>\n",
       "    </tr>\n",
       "    <tr>\n",
       "      <th>4</th>\n",
       "      <td>2020-07-31</td>\n",
       "      <td>옥수동</td>\n",
       "      <td>금호역(현대아파트)</td>\n",
       "      <td>4156</td>\n",
       "      <td>중형</td>\n",
       "    </tr>\n",
       "  </tbody>\n",
       "</table>\n",
       "</div>"
      ],
      "text/plain": [
       "          설치일     행정동             버스정류소명   아이디  크기\n",
       "0  2020-07-31    행당1동        성동구청(도선사거리)  4111  중형\n",
       "1  2020-07-31    행당2동       응봉사거리(무학여고앞)  4140  중형\n",
       "2  2020-07-31  성수2가1동  성원중성수동이마트앞(성수공고앞)  4198  중형\n",
       "3  2020-07-31  왕십리도선동  상왕십리역(왕십리센트라스아파트)  4102  중형\n",
       "4  2020-07-31     옥수동         금호역(현대아파트)  4156  중형"
      ]
     },
     "execution_count": 10,
     "metadata": {},
     "output_type": "execute_result"
    }
   ],
   "source": [
    "# 버스 정류장 별 쉼터 여부 표시\n",
    "df = pd.read_csv(\"../data/서울특별시 성동구_스마트쉼터현황_20220609.csv\", encoding='cp949')\n",
    "df.head()"
   ]
  },
  {
   "cell_type": "code",
   "execution_count": 11,
   "metadata": {},
   "outputs": [
    {
     "data": {
      "text/plain": [
       "[4111,\n",
       " 4140,\n",
       " 4198,\n",
       " 4102,\n",
       " 4156,\n",
       " 4162,\n",
       " 4213,\n",
       " 4138,\n",
       " 4146,\n",
       " 4130,\n",
       " 4302,\n",
       " 4132,\n",
       " 4280,\n",
       " 4101,\n",
       " 4119,\n",
       " 4120,\n",
       " 4218,\n",
       " 4177,\n",
       " 4238,\n",
       " 4207,\n",
       " 4215,\n",
       " 4279,\n",
       " 4103,\n",
       " 4110,\n",
       " 4142,\n",
       " 4185,\n",
       " 4180,\n",
       " 4500,\n",
       " 4574,\n",
       " 4117,\n",
       " 4118,\n",
       " 4595,\n",
       " 4600,\n",
       " 4127,\n",
       " 4560,\n",
       " 4160,\n",
       " 4155,\n",
       " 4764,\n",
       " 4159,\n",
       " 4178,\n",
       " 4237,\n",
       " 4239,\n",
       " 4187,\n",
       " 4257,\n",
       " 4211,\n",
       " 4216,\n",
       " 4217]"
      ]
     },
     "execution_count": 11,
     "metadata": {},
     "output_type": "execute_result"
    }
   ],
   "source": [
    "df['아이디'].to_list()\n",
    "# list_bus = list(df['아이디'])"
   ]
  },
  {
   "cell_type": "code",
   "execution_count": 12,
   "metadata": {},
   "outputs": [
    {
     "data": {
      "text/html": [
       "<div>\n",
       "<style scoped>\n",
       "    .dataframe tbody tr th:only-of-type {\n",
       "        vertical-align: middle;\n",
       "    }\n",
       "\n",
       "    .dataframe tbody tr th {\n",
       "        vertical-align: top;\n",
       "    }\n",
       "\n",
       "    .dataframe thead th {\n",
       "        text-align: right;\n",
       "    }\n",
       "</style>\n",
       "<table border=\"1\" class=\"dataframe\">\n",
       "  <thead>\n",
       "    <tr style=\"text-align: right;\">\n",
       "      <th></th>\n",
       "      <th>ARS-ID</th>\n",
       "      <th>버스 총 승차수</th>\n",
       "    </tr>\n",
       "  </thead>\n",
       "  <tbody>\n",
       "    <tr>\n",
       "      <th>0</th>\n",
       "      <td>4001</td>\n",
       "      <td>39270</td>\n",
       "    </tr>\n",
       "    <tr>\n",
       "      <th>1</th>\n",
       "      <td>4002</td>\n",
       "      <td>37286</td>\n",
       "    </tr>\n",
       "    <tr>\n",
       "      <th>2</th>\n",
       "      <td>4003</td>\n",
       "      <td>61371</td>\n",
       "    </tr>\n",
       "    <tr>\n",
       "      <th>3</th>\n",
       "      <td>4101</td>\n",
       "      <td>17969</td>\n",
       "    </tr>\n",
       "    <tr>\n",
       "      <th>4</th>\n",
       "      <td>4102</td>\n",
       "      <td>35007</td>\n",
       "    </tr>\n",
       "  </tbody>\n",
       "</table>\n",
       "</div>"
      ],
      "text/plain": [
       "   ARS-ID  버스 총 승차수\n",
       "0    4001     39270\n",
       "1    4002     37286\n",
       "2    4003     61371\n",
       "3    4101     17969\n",
       "4    4102     35007"
      ]
     },
     "execution_count": 12,
     "metadata": {},
     "output_type": "execute_result"
    }
   ],
   "source": [
    "df2 = pd.read_csv(\"../data/전처리데이터/성동구 승차인원_only.csv\", encoding='cp949')\n",
    "df2.head()"
   ]
  },
  {
   "cell_type": "code",
   "execution_count": 13,
   "metadata": {},
   "outputs": [
    {
     "name": "stdout",
     "output_type": "stream",
     "text": [
      "[0, 0, 0, 1, 1, 1, 0, 0, 0, 0, 0, 0, 1, 0, 0, 0, 0, 1, 1, 1, 1, 0, 0, 0, 0, 0, 0, 1, 0, 0, 1, 0, 1, 0, 0, 0, 0, 0, 1, 0, 1, 0, 1, 0, 0, 1, 0, 0, 0, 0, 0, 0, 0, 0, 1, 1, 0, 0, 1, 1, 0, 1, 0, 0, 0, 0, 0, 0, 0, 0, 0, 0, 0, 0, 0, 0, 1, 1, 0, 1, 0, 0, 0, 0, 1, 0, 1, 0, 0, 0, 0, 0, 0, 0, 0, 0, 0, 1, 0, 0, 0, 0, 0, 0, 0, 0, 1, 0, 0, 0, 1, 0, 1, 0, 1, 1, 1, 1, 0, 0, 0, 0, 0, 0, 0, 0, 0, 0, 0, 0, 0, 1, 1, 1, 0, 0, 0, 0, 0, 0, 0, 0, 0, 0, 0, 0, 0, 1, 0, 0, 0, 0, 0, 0, 0, 0, 0, 0, 0, 0, 0, 0, 0, 0, 0, 1, 1, 0, 0, 0, 0, 0, 0, 0, 0, 0, 0, 1, 0, 0, 0, 0, 1, 0, 0, 0, 0, 0, 0, 0, 0, 0, 0, 0, 0, 0, 0, 0, 0, 0, 0, 0, 0, 0, 0, 0, 0, 0, 0, 0, 0, 0, 0, 0, 0, 0, 0, 0, 0, 0, 0, 0, 0, 0, 0, 0, 0, 0, 0, 0, 0, 0, 0, 0, 0, 0, 0, 0, 0, 0, 0, 0, 1, 0, 0, 0, 0, 0, 0, 0, 0, 0, 0, 0, 0, 0, 0, 0, 0, 1, 0, 0, 0, 0, 1, 0, 0, 0, 0, 0, 0, 0, 0, 0, 0, 0, 0, 0, 0, 0, 0, 0, 0, 0, 0, 0, 0, 0, 0, 0, 0, 0, 0, 0, 0, 0, 0, 0, 0, 0, 0, 0, 0, 0, 0, 0, 0, 0, 0, 0, 0, 0, 0, 0, 0, 0, 0, 0, 1, 0, 0, 0, 0, 0, 0, 0, 0, 0, 0, 0, 0, 0, 0, 0, 0, 0, 0, 0, 0, 0, 0, 0, 0, 0, 0, 0, 0, 0, 0, 0, 0, 0, 0, 0, 0, 0, 0, 0, 0, 0, 0, 0, 0, 0, 0, 0, 0, 0, 0, 0, 0, 0, 0, 0, 0, 0, 0, 0, 0, 0, 0, 0, 0, 0, 0, 0, 0, 0, 0, 0, 0, 0, 0, 0, 0, 0, 0, 0, 0, 0, 0, 0, 0, 0, 0, 0, 0, 0, 0, 0, 0, 0, 0, 0, 0, 0, 0, 0, 0, 0, 0, 0, 0, 0, 0, 0, 0, 0, 0, 0, 0, 0]\n"
     ]
    }
   ],
   "source": [
    "list = []\n",
    "for i in df2.index:\n",
    "    if df2.iloc[i]['ARS-ID'] in df['아이디'].to_list():\n",
    "        list.append(1)\n",
    "    else:\n",
    "        list.append(0)\n",
    "print(list)"
   ]
  },
  {
   "cell_type": "code",
   "execution_count": 14,
   "metadata": {},
   "outputs": [
    {
     "data": {
      "text/plain": [
       "<bound method NDFrame.head of      ARS-ID  버스 총 승차수  쉼터여부\n",
       "0      4001     39270     0\n",
       "1      4002     37286     0\n",
       "2      4003     61371     0\n",
       "3      4101     17969     1\n",
       "4      4102     35007     1\n",
       "..      ...       ...   ...\n",
       "427    4911       454     0\n",
       "428    4912       754     0\n",
       "429    4913       264     0\n",
       "430    4914      2972     0\n",
       "431    6507      7468     0\n",
       "\n",
       "[432 rows x 3 columns]>"
      ]
     },
     "execution_count": 14,
     "metadata": {},
     "output_type": "execute_result"
    }
   ],
   "source": [
    "df2['쉼터여부'] = list\n",
    "df2.head"
   ]
  },
  {
   "cell_type": "code",
   "execution_count": 15,
   "metadata": {},
   "outputs": [],
   "source": [
    "df2.to_csv(\"../data/전처리데이터/성동구 승차인원_only.csv\", encoding='cp949', index = False)"
   ]
  },
  {
   "cell_type": "code",
   "execution_count": 16,
   "metadata": {},
   "outputs": [],
   "source": [
    "#병합\n",
    "df = pd.read_csv(\"../data/전처리데이터/성동구 승차인원_only.csv\", encoding='cp949')\n",
    "df1 = pd.read_csv(\"../data/전처리데이터/성동구 정류장명 및 위치와 버스.csv\", encoding='cp949')"
   ]
  },
  {
   "cell_type": "code",
   "execution_count": 17,
   "metadata": {},
   "outputs": [
    {
     "data": {
      "text/html": [
       "<div>\n",
       "<style scoped>\n",
       "    .dataframe tbody tr th:only-of-type {\n",
       "        vertical-align: middle;\n",
       "    }\n",
       "\n",
       "    .dataframe tbody tr th {\n",
       "        vertical-align: top;\n",
       "    }\n",
       "\n",
       "    .dataframe thead th {\n",
       "        text-align: right;\n",
       "    }\n",
       "</style>\n",
       "<table border=\"1\" class=\"dataframe\">\n",
       "  <thead>\n",
       "    <tr style=\"text-align: right;\">\n",
       "      <th></th>\n",
       "      <th>ARS-ID</th>\n",
       "      <th>버스 총 승차수</th>\n",
       "      <th>쉼터여부</th>\n",
       "      <th>NODE_ID</th>\n",
       "      <th>정류소명</th>\n",
       "      <th>위도</th>\n",
       "      <th>경도</th>\n",
       "      <th>버스 수</th>\n",
       "      <th>버스 노선 리스트</th>\n",
       "      <th>평균 배차 간격</th>\n",
       "      <th>최대 배차 간격</th>\n",
       "    </tr>\n",
       "  </thead>\n",
       "  <tbody>\n",
       "    <tr>\n",
       "      <th>0</th>\n",
       "      <td>4001</td>\n",
       "      <td>39270</td>\n",
       "      <td>0</td>\n",
       "      <td>103000001</td>\n",
       "      <td>답십리역사거리</td>\n",
       "      <td>37.565426</td>\n",
       "      <td>127.054368</td>\n",
       "      <td>6</td>\n",
       "      <td>['9403', '370', '303', 'N30', '721', '130']</td>\n",
       "      <td>13.67</td>\n",
       "      <td>40</td>\n",
       "    </tr>\n",
       "    <tr>\n",
       "      <th>1</th>\n",
       "      <td>4002</td>\n",
       "      <td>37286</td>\n",
       "      <td>0</td>\n",
       "      <td>103000002</td>\n",
       "      <td>청년회의소.서울새활용플라자</td>\n",
       "      <td>37.561952</td>\n",
       "      <td>127.060479</td>\n",
       "      <td>9</td>\n",
       "      <td>['9403', '3216', '2221', '370', '3220', '303',...</td>\n",
       "      <td>13.89</td>\n",
       "      <td>40</td>\n",
       "    </tr>\n",
       "    <tr>\n",
       "      <th>2</th>\n",
       "      <td>4003</td>\n",
       "      <td>61371</td>\n",
       "      <td>0</td>\n",
       "      <td>103000003</td>\n",
       "      <td>장한평역</td>\n",
       "      <td>37.561131</td>\n",
       "      <td>127.066098</td>\n",
       "      <td>10</td>\n",
       "      <td>['9403', '2416', '3216', '2221', '370', '3220'...</td>\n",
       "      <td>14.00</td>\n",
       "      <td>40</td>\n",
       "    </tr>\n",
       "    <tr>\n",
       "      <th>3</th>\n",
       "      <td>4101</td>\n",
       "      <td>17969</td>\n",
       "      <td>1</td>\n",
       "      <td>103000004</td>\n",
       "      <td>상왕십리역</td>\n",
       "      <td>37.564279</td>\n",
       "      <td>127.029260</td>\n",
       "      <td>5</td>\n",
       "      <td>['2012', 'N62', '2014', '2015', '463']</td>\n",
       "      <td>12.80</td>\n",
       "      <td>24</td>\n",
       "    </tr>\n",
       "    <tr>\n",
       "      <th>4</th>\n",
       "      <td>4102</td>\n",
       "      <td>35007</td>\n",
       "      <td>1</td>\n",
       "      <td>103000005</td>\n",
       "      <td>상왕십리역</td>\n",
       "      <td>37.564609</td>\n",
       "      <td>127.028642</td>\n",
       "      <td>11</td>\n",
       "      <td>['302', '2013', '2012', 'N62', '2014', '463', ...</td>\n",
       "      <td>12.18</td>\n",
       "      <td>24</td>\n",
       "    </tr>\n",
       "  </tbody>\n",
       "</table>\n",
       "</div>"
      ],
      "text/plain": [
       "   ARS-ID  버스 총 승차수  쉼터여부    NODE_ID            정류소명         위도          경도  \\\n",
       "0    4001     39270     0  103000001         답십리역사거리  37.565426  127.054368   \n",
       "1    4002     37286     0  103000002  청년회의소.서울새활용플라자  37.561952  127.060479   \n",
       "2    4003     61371     0  103000003            장한평역  37.561131  127.066098   \n",
       "3    4101     17969     1  103000004           상왕십리역  37.564279  127.029260   \n",
       "4    4102     35007     1  103000005           상왕십리역  37.564609  127.028642   \n",
       "\n",
       "   버스 수                                          버스 노선 리스트  평균 배차 간격  최대 배차 간격  \n",
       "0     6        ['9403', '370', '303', 'N30', '721', '130']     13.67        40  \n",
       "1     9  ['9403', '3216', '2221', '370', '3220', '303',...     13.89        40  \n",
       "2    10  ['9403', '2416', '3216', '2221', '370', '3220'...     14.00        40  \n",
       "3     5             ['2012', 'N62', '2014', '2015', '463']     12.80        24  \n",
       "4    11  ['302', '2013', '2012', 'N62', '2014', '463', ...     12.18        24  "
      ]
     },
     "execution_count": 17,
     "metadata": {},
     "output_type": "execute_result"
    }
   ],
   "source": [
    "df2 = pd.merge(df,df1)\n",
    "df2.head()"
   ]
  },
  {
   "cell_type": "code",
   "execution_count": 19,
   "metadata": {},
   "outputs": [],
   "source": [
    "df2.to_csv(\"../data/전처리데이터/성동구 쉼터여부_버스 승차수_버스수_배차간격.csv\", encoding='cp949')"
   ]
  },
  {
   "cell_type": "code",
   "execution_count": null,
   "metadata": {},
   "outputs": [],
   "source": []
  }
 ],
 "metadata": {
  "kernelspec": {
   "display_name": "Python 3 (ipykernel)",
   "language": "python",
   "name": "python3"
  },
  "language_info": {
   "codemirror_mode": {
    "name": "ipython",
    "version": 3
   },
   "file_extension": ".py",
   "mimetype": "text/x-python",
   "name": "python",
   "nbconvert_exporter": "python",
   "pygments_lexer": "ipython3",
   "version": "3.9.12"
  },
  "vscode": {
   "interpreter": {
    "hash": "303d47488a626c56d730ef6882fac2c0c33f4a7ecacb277a9ba75a8f2c161212"
   }
  }
 },
 "nbformat": 4,
 "nbformat_minor": 2
}
