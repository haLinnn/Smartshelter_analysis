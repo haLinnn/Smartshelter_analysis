{
 "cells": [
  {
   "cell_type": "code",
   "execution_count": 4,
   "id": "6be64542",
   "metadata": {},
   "outputs": [
    {
     "data": {
      "text/html": [
       "<div>\n",
       "<style scoped>\n",
       "    .dataframe tbody tr th:only-of-type {\n",
       "        vertical-align: middle;\n",
       "    }\n",
       "\n",
       "    .dataframe tbody tr th {\n",
       "        vertical-align: top;\n",
       "    }\n",
       "\n",
       "    .dataframe thead th {\n",
       "        text-align: right;\n",
       "    }\n",
       "</style>\n",
       "<table border=\"1\" class=\"dataframe\">\n",
       "  <thead>\n",
       "    <tr style=\"text-align: right;\">\n",
       "      <th></th>\n",
       "      <th>순번</th>\n",
       "      <th>시군구</th>\n",
       "      <th>사물명</th>\n",
       "      <th>고유번호</th>\n",
       "      <th>사물주소</th>\n",
       "      <th>진행상태</th>\n",
       "      <th>사물주소 확정일</th>\n",
       "    </tr>\n",
       "  </thead>\n",
       "  <tbody>\n",
       "    <tr>\n",
       "      <th>0</th>\n",
       "      <td>1</td>\n",
       "      <td>강화군</td>\n",
       "      <td>해망</td>\n",
       "      <td>90353</td>\n",
       "      <td>인천광역시 강화군 양도면 해안서로 471 버스정류장</td>\n",
       "      <td>사물주소 확정</td>\n",
       "      <td>2021-11-29</td>\n",
       "    </tr>\n",
       "    <tr>\n",
       "      <th>1</th>\n",
       "      <td>2</td>\n",
       "      <td>강화군</td>\n",
       "      <td>해망</td>\n",
       "      <td>90352</td>\n",
       "      <td>인천광역시 강화군 양도면 해안서로 474 버스정류장</td>\n",
       "      <td>사물주소 확정</td>\n",
       "      <td>2021-11-29</td>\n",
       "    </tr>\n",
       "    <tr>\n",
       "      <th>2</th>\n",
       "      <td>3</td>\n",
       "      <td>강화군</td>\n",
       "      <td>탑재입구</td>\n",
       "      <td>90316</td>\n",
       "      <td>인천광역시 강화군 삼산면 어류정길 37 버스정류장</td>\n",
       "      <td>사물주소 확정</td>\n",
       "      <td>2021-11-29</td>\n",
       "    </tr>\n",
       "    <tr>\n",
       "      <th>3</th>\n",
       "      <td>4</td>\n",
       "      <td>강화군</td>\n",
       "      <td>탑재입구</td>\n",
       "      <td>90315</td>\n",
       "      <td>인천광역시 강화군 삼산면 어류정길 36 버스정류장</td>\n",
       "      <td>사물주소 확정</td>\n",
       "      <td>2021-11-29</td>\n",
       "    </tr>\n",
       "    <tr>\n",
       "      <th>4</th>\n",
       "      <td>5</td>\n",
       "      <td>강화군</td>\n",
       "      <td>탄토마을</td>\n",
       "      <td>90378</td>\n",
       "      <td>인천광역시 강화군 삼산면 상리길 38 버스정류장</td>\n",
       "      <td>사물주소 확정</td>\n",
       "      <td>2021-11-29</td>\n",
       "    </tr>\n",
       "  </tbody>\n",
       "</table>\n",
       "</div>"
      ],
      "text/plain": [
       "   순번  시군구   사물명   고유번호                          사물주소     진행상태    사물주소 확정일\n",
       "0   1  강화군    해망  90353  인천광역시 강화군 양도면 해안서로 471 버스정류장  사물주소 확정  2021-11-29\n",
       "1   2  강화군    해망  90352  인천광역시 강화군 양도면 해안서로 474 버스정류장  사물주소 확정  2021-11-29\n",
       "2   3  강화군  탑재입구  90316   인천광역시 강화군 삼산면 어류정길 37 버스정류장  사물주소 확정  2021-11-29\n",
       "3   4  강화군  탑재입구  90315   인천광역시 강화군 삼산면 어류정길 36 버스정류장  사물주소 확정  2021-11-29\n",
       "4   5  강화군  탄토마을  90378    인천광역시 강화군 삼산면 상리길 38 버스정류장  사물주소 확정  2021-11-29"
      ]
     },
     "execution_count": 4,
     "metadata": {},
     "output_type": "execute_result"
    }
   ],
   "source": [
    "import pandas as pd\n",
    "import numpy as np\n",
    "\n",
    "df = pd.read_csv('../data/인천광역시_버스정류장 사물주소 현황_20220321.csv', encoding='cp949')\n",
    "df.head()"
   ]
  }
 ],
 "metadata": {
  "kernelspec": {
   "display_name": "Python 3 (ipykernel)",
   "language": "python",
   "name": "python3"
  },
  "language_info": {
   "codemirror_mode": {
    "name": "ipython",
    "version": 3
   },
   "file_extension": ".py",
   "mimetype": "text/x-python",
   "name": "python",
   "nbconvert_exporter": "python",
   "pygments_lexer": "ipython3",
   "version": "3.9.12"
  }
 },
 "nbformat": 4,
 "nbformat_minor": 5
}
