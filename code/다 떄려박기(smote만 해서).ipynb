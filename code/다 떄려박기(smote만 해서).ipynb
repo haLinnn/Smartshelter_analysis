{
 "cells": [
  {
   "cell_type": "code",
   "execution_count": 2,
   "metadata": {},
   "outputs": [],
   "source": [
    "import pandas as pd\n",
    "df = pd.read_csv(\"../data/전처리데이터/성동구 최종 데이터_수정.csv\", encoding='cp949')"
   ]
  },
  {
   "cell_type": "code",
   "execution_count": 3,
   "metadata": {},
   "outputs": [],
   "source": [
    "from sklearn.model_selection import train_test_split\n",
    "from sklearn import metrics\n",
    "from sklearn.metrics import accuracy_score, precision_score, recall_score, f1_score, roc_auc_score\n",
    "X = df[['버스 수','버스 총 승차수','평균 배차 간격','지하철역 최단거리(m)','도로폭_숫자','인구']]\n",
    "y = df[\"쉼터여부\"]\n",
    "X_train, X_test, y_train, y_test = train_test_split(X,y,test_size=0.25,random_state=10)\n",
    "\n",
    "#모델링\n",
    "def modeling(model,x_train,x_test,y_train,y_test):\n",
    "    model.fit(x_train,y_train)\n",
    "    pred = model.predict(x_test)\n",
    "    metrics(y_test,pred)\n",
    "#평가 지표\n",
    "def metrics(y_test,pred):\n",
    "    accuracy = accuracy_score(y_test,pred)\n",
    "    precision = precision_score(y_test,pred)\n",
    "    recall = recall_score(y_test,pred)\n",
    "    f1 = f1_score(y_test,pred)\n",
    "    roc_score = roc_auc_score(y_test,pred,average='macro')\n",
    "    print('정확도 : {0:.2f}, 정밀도 : {1:.2f}, 재현율 : {2:.2f}'.format(accuracy,precision,recall))\n",
    "    print('f1-score : {0:.2f}, auc : {1:.2f}'.format(f1,roc_score,recall))"
   ]
  },
  {
   "cell_type": "code",
   "execution_count": 4,
   "metadata": {},
   "outputs": [
    {
     "name": "stdout",
     "output_type": "stream",
     "text": [
      "정확도 : 0.89, 정밀도 : 0.00, 재현율 : 0.00\n",
      "f1-score : 0.00, auc : 0.49\n"
     ]
    }
   ],
   "source": [
    "from sklearn.linear_model import LogisticRegression\n",
    "lr = LogisticRegression()\n",
    "modeling(lr,X_train,X_test,y_train,y_test)"
   ]
  },
  {
   "cell_type": "code",
   "execution_count": 6,
   "metadata": {},
   "outputs": [
    {
     "name": "stdout",
     "output_type": "stream",
     "text": [
      "정확도 : 0.91, 정밀도 : 0.50, 재현율 : 0.20\n",
      "f1-score : 0.29, auc : 0.59\n"
     ]
    }
   ],
   "source": [
    "from lightgbm import LGBMClassifier\n",
    "lgb = LGBMClassifier(n_estimators=1000,num_leaves=64,n_jobs=-1,boost_from_average=False)\n",
    "modeling(lgb,X_train,X_test,y_train,y_test)"
   ]
  },
  {
   "cell_type": "code",
   "execution_count": 12,
   "metadata": {},
   "outputs": [
    {
     "name": "stdout",
     "output_type": "stream",
     "text": [
      "정확도 : 0.90, 정밀도 : 0.33, 재현율 : 0.10\n",
      "f1-score : 0.15, auc : 0.54\n"
     ]
    }
   ],
   "source": [
    "from sklearn.ensemble import RandomForestClassifier\n",
    "rfc = RandomForestClassifier(n_estimators=10)\n",
    "modeling(rfc,X_train,X_test,y_train,y_test)"
   ]
  },
  {
   "cell_type": "code",
   "execution_count": 15,
   "metadata": {},
   "outputs": [
    {
     "name": "stdout",
     "output_type": "stream",
     "text": [
      "정확도 : 0.88, 정밀도 : 0.00, 재현율 : 0.00\n",
      "f1-score : 0.00, auc : 0.48\n"
     ]
    }
   ],
   "source": [
    "#svc 선형\n",
    "import sklearn.svm as svm\n",
    "svm_l = svm.SVC(kernel = 'linear')\n",
    "modeling(svm_l,X_train,X_test,y_train,y_test)"
   ]
  },
  {
   "cell_type": "code",
   "execution_count": 16,
   "metadata": {},
   "outputs": [
    {
     "name": "stdout",
     "output_type": "stream",
     "text": [
      "정확도 : 0.91, 정밀도 : 0.00, 재현율 : 0.00\n",
      "f1-score : 0.00, auc : 0.50\n"
     ]
    },
    {
     "name": "stderr",
     "output_type": "stream",
     "text": [
      "C:\\Users\\user\\AppData\\Local\\Packages\\PythonSoftwareFoundation.Python.3.9_qbz5n2kfra8p0\\LocalCache\\local-packages\\Python39\\site-packages\\sklearn\\metrics\\_classification.py:1327: UndefinedMetricWarning: Precision is ill-defined and being set to 0.0 due to no predicted samples. Use `zero_division` parameter to control this behavior.\n",
      "  _warn_prf(average, modifier, msg_start, len(result))\n"
     ]
    }
   ],
   "source": [
    "#svc 비선형\n",
    "import sklearn.svm as svm\n",
    "svm_r = svm.SVC(kernel = 'rbf')\n",
    "modeling(svm_r,X_train,X_test,y_train,y_test)"
   ]
  },
  {
   "cell_type": "code",
   "execution_count": 17,
   "metadata": {},
   "outputs": [
    {
     "name": "stdout",
     "output_type": "stream",
     "text": [
      "정확도 : 0.92, 정밀도 : 0.67, 재현율 : 0.20\n",
      "f1-score : 0.31, auc : 0.59\n"
     ]
    }
   ],
   "source": [
    "from sklearn.naive_bayes import GaussianNB\n",
    "gnb = GaussianNB()\n",
    "modeling(rfc,X_train,X_test,y_train,y_test)"
   ]
  },
  {
   "cell_type": "code",
   "execution_count": 18,
   "metadata": {},
   "outputs": [
    {
     "name": "stdout",
     "output_type": "stream",
     "text": [
      "정확도 : 0.89, 정밀도 : 0.25, 재현율 : 0.10\n",
      "f1-score : 0.14, auc : 0.53\n"
     ]
    }
   ],
   "source": [
    "from sklearn.naive_bayes import BernoulliNB\n",
    "bnb = BernoulliNB()\n",
    "modeling(rfc,X_train,X_test,y_train,y_test)"
   ]
  },
  {
   "cell_type": "code",
   "execution_count": 9,
   "metadata": {},
   "outputs": [
    {
     "name": "stdout",
     "output_type": "stream",
     "text": [
      "SMOTE 적용 전 학습용 피처/레이블 데이터 세트:  (324, 6) (324,)\n",
      "SMOTE 적용 후 학습용 피처/레이블 데이터 세트:  (578, 6) (578,)\n",
      "SMOTE 적용 후 레이블 값 분포: \n",
      " 0    289\n",
      "1    289\n",
      "Name: 쉼터여부, dtype: int64\n"
     ]
    }
   ],
   "source": [
    "from imblearn.over_sampling import SMOTE\n",
    "smote = SMOTE(random_state=0)\n",
    "X_train_over,y_train_over = smote.fit_resample(X_train,y_train)\n",
    "print('SMOTE 적용 전 학습용 피처/레이블 데이터 세트: ', X_train.shape, y_train.shape)\n",
    "print('SMOTE 적용 후 학습용 피처/레이블 데이터 세트: ', X_train_over.shape, y_train_over.shape)\n",
    "print('SMOTE 적용 후 레이블 값 분포: \\n', pd.Series(y_train_over).value_counts())"
   ]
  },
  {
   "cell_type": "code",
   "execution_count": 10,
   "metadata": {},
   "outputs": [
    {
     "name": "stdout",
     "output_type": "stream",
     "text": [
      "정확도 : 0.84, 정밀도 : 0.33, 재현율 : 0.70\n",
      "f1-score : 0.45, auc : 0.78\n"
     ]
    }
   ],
   "source": [
    "lr = LogisticRegression()\n",
    "modeling(lr,X_train_over,X_test,y_train_over,y_test)"
   ]
  },
  {
   "cell_type": "code",
   "execution_count": 11,
   "metadata": {},
   "outputs": [
    {
     "name": "stdout",
     "output_type": "stream",
     "text": [
      "정확도 : 0.89, 정밀도 : 0.38, 재현율 : 0.30\n",
      "f1-score : 0.33, auc : 0.62\n"
     ]
    }
   ],
   "source": [
    "lgb = LGBMClassifier(n_estimators=1000,num_leaves=64,n_jobs=-1,boost_from_average=False)\n",
    "modeling(lgb,X_train_over,X_test,y_train_over,y_test)"
   ]
  },
  {
   "cell_type": "code",
   "execution_count": 23,
   "metadata": {},
   "outputs": [
    {
     "name": "stdout",
     "output_type": "stream",
     "text": [
      "정확도 : 0.90, 정밀도 : 0.45, 재현율 : 0.50\n",
      "f1-score : 0.48, auc : 0.72\n"
     ]
    }
   ],
   "source": [
    "rfc = RandomForestClassifier(n_estimators=10)\n",
    "modeling(rfc,X_train_over,X_test,y_train_over,y_test)"
   ]
  },
  {
   "cell_type": "code",
   "execution_count": 26,
   "metadata": {},
   "outputs": [
    {
     "name": "stdout",
     "output_type": "stream",
     "text": [
      "정확도 : 0.76, 정밀도 : 0.21, 재현율 : 0.60\n",
      "f1-score : 0.32, auc : 0.69\n"
     ]
    }
   ],
   "source": [
    "#svc 선형\n",
    "svm_l = svm.SVC(kernel = 'linear')\n",
    "modeling(svm_l,X_train_over,X_test,y_train_over,y_test)"
   ]
  },
  {
   "cell_type": "code",
   "execution_count": 27,
   "metadata": {},
   "outputs": [
    {
     "name": "stdout",
     "output_type": "stream",
     "text": [
      "정확도 : 0.77, 정밀도 : 0.26, 재현율 : 0.80\n",
      "f1-score : 0.39, auc : 0.78\n"
     ]
    }
   ],
   "source": [
    "#svc 비선형\n",
    "svm_r = svm.SVC(kernel = 'rbf')\n",
    "modeling(svm_r,X_train_over,X_test,y_train_over,y_test)"
   ]
  },
  {
   "cell_type": "code",
   "execution_count": 28,
   "metadata": {},
   "outputs": [
    {
     "name": "stdout",
     "output_type": "stream",
     "text": [
      "정확도 : 0.84, 정밀도 : 0.32, 재현율 : 0.60\n",
      "f1-score : 0.41, auc : 0.73\n"
     ]
    }
   ],
   "source": [
    "from sklearn.naive_bayes import GaussianNB\n",
    "gnb = GaussianNB()\n",
    "modeling(gnb,X_train_over,X_test,y_train_over,y_test)"
   ]
  },
  {
   "cell_type": "code",
   "execution_count": 29,
   "metadata": {},
   "outputs": [
    {
     "name": "stdout",
     "output_type": "stream",
     "text": [
      "정확도 : 0.91, 정밀도 : 0.00, 재현율 : 0.00\n",
      "f1-score : 0.00, auc : 0.50\n"
     ]
    },
    {
     "name": "stderr",
     "output_type": "stream",
     "text": [
      "C:\\Users\\user\\AppData\\Local\\Packages\\PythonSoftwareFoundation.Python.3.9_qbz5n2kfra8p0\\LocalCache\\local-packages\\Python39\\site-packages\\sklearn\\metrics\\_classification.py:1327: UndefinedMetricWarning: Precision is ill-defined and being set to 0.0 due to no predicted samples. Use `zero_division` parameter to control this behavior.\n",
      "  _warn_prf(average, modifier, msg_start, len(result))\n"
     ]
    }
   ],
   "source": [
    "from sklearn.naive_bayes import BernoulliNB\n",
    "bnb = BernoulliNB()\n",
    "modeling(bnb,X_train_over,X_test,y_train_over,y_test)"
   ]
  },
  {
   "cell_type": "code",
   "execution_count": null,
   "metadata": {},
   "outputs": [],
   "source": []
  }
 ],
 "metadata": {
  "kernelspec": {
   "display_name": "Python 3.9.13 64-bit (windows store)",
   "language": "python",
   "name": "python3"
  },
  "language_info": {
   "codemirror_mode": {
    "name": "ipython",
    "version": 3
   },
   "file_extension": ".py",
   "mimetype": "text/x-python",
   "name": "python",
   "nbconvert_exporter": "python",
   "pygments_lexer": "ipython3",
   "version": "3.9.13"
  },
  "orig_nbformat": 4,
  "vscode": {
   "interpreter": {
    "hash": "303d47488a626c56d730ef6882fac2c0c33f4a7ecacb277a9ba75a8f2c161212"
   }
  }
 },
 "nbformat": 4,
 "nbformat_minor": 2
}
